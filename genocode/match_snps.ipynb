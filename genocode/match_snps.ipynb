{
 "cells": [
  {
   "cell_type": "code",
   "execution_count": null,
   "metadata": {},
   "outputs": [],
   "source": [
    "\"\"\"\n",
    "This file contains functions to map our existing snps for\n",
    "two phenotypes, BMI(8 snps) and type 2 diabetes(17 snps),\n",
    "to the uploaded genetic test file. \n",
    "\"\"\"\n",
    "def bmi(df):\n",
    "    \"\"\"\n",
    "    Takes a dataframe as a parameter and extract a filtered\n",
    "    dataframe from uploaded file to check if 8 snps we have\n",
    "    in our data bank.\n",
    "    \"\"\"\n",
    "    df = df[(df['rsid'] == 'rs9939609') |\n",
    "            (df['rsid'] =='rs6548238') |\n",
    "            (df['rsid'] == 'rs17782313') |\n",
    "            (df['rsid'] == 'rs10938397') |\n",
    "            (df['rsid'] == 'rs7498665') |\n",
    "            (df['rsid'] == 'rs10838738') |\n",
    "            (df['rsid'] == 'rs11084753') |\n",
    "            (df['rsid'] == 'rs2815752')]\n",
    "    return df\n",
    "\n",
    "\n",
    "def diabetestotal(df):\n",
    "    \"\"\"\n",
    "    Takes a dataframe as a parameter and extract a filtered\n",
    "    dataframe from uploaded file to check if 17 snps we have\n",
    "    in our data bank.\n",
    "    \"\"\"\n",
    "    df = df[(df['rsid'] == 'rs560887') |\n",
    "            (df['rsid'] =='rs10830963') |\n",
    "            (df['rsid'] == 'rs14607517')|\n",
    "            (df['rsid'] == 'rs2191349') |\n",
    "            (df['rsid'] == 'rs780094') |\n",
    "            (df['rsid'] == 'rs11708067') |\n",
    "            (df['rsid'] == 'rs7944584') |\n",
    "            (df['rsid'] == 'rs10885122') |\n",
    "            (df['rsid'] == 'rs174550') |\n",
    "            (df['rsid'] == 'rs11605924') |\n",
    "            (df['rsid'] == 'rs11920090') |\n",
    "            (df['rsid'] == 'rs7034200') |\n",
    "            (df['rsid'] == 'rs340874') |\n",
    "            (df['rsid'] == 'rs11071657') |\n",
    "            (df['rsid'] == 'rs13266634') |\n",
    "            (df['rsid'] == 'rs7903146') |\n",
    "            (df['rsid'] == 'rs35767')]\n",
    "    return df"
   ]
  }
 ],
 "metadata": {
  "kernelspec": {
   "display_name": "Python 3",
   "language": "python",
   "name": "python3"
  },
  "language_info": {
   "codemirror_mode": {
    "name": "ipython",
    "version": 3
   },
   "file_extension": ".py",
   "mimetype": "text/x-python",
   "name": "python",
   "nbconvert_exporter": "python",
   "pygments_lexer": "ipython3",
   "version": "3.7.4"
  }
 },
 "nbformat": 4,
 "nbformat_minor": 2
}
