{
 "cells": [
  {
   "cell_type": "markdown",
   "metadata": {},
   "source": [
    "First import the \"datavis\" module"
   ]
  },
  {
   "cell_type": "code",
   "execution_count": 5,
   "metadata": {
    "ExecuteTime": {
     "end_time": "2020-04-14T20:24:25.789217Z",
     "start_time": "2020-04-14T20:24:25.785140Z"
    }
   },
   "outputs": [],
   "source": [
    "import sys\n",
    "sys.path.append('..')\n",
    "import datavis "
   ]
  },
  {
   "cell_type": "code",
   "execution_count": 10,
   "metadata": {
    "ExecuteTime": {
     "end_time": "2020-04-14T20:36:23.398943Z",
     "start_time": "2020-04-14T20:36:23.394491Z"
    }
   },
   "outputs": [],
   "source": [
    "def test_se_to_sd():\n",
    "    \"\"\"\n",
    "    Test that the value returned is a float value\n",
    "    \"\"\"\n",
    "    sdev = datavis.se_to_sd(0.5, 1000)\n",
    "    assert isinstance(sdev, float),\\\n",
    "    \"Returned data type is not a float number\""
   ]
  },
  {
   "cell_type": "code",
   "execution_count": 11,
   "metadata": {
    "ExecuteTime": {
     "end_time": "2020-04-14T20:36:25.962771Z",
     "start_time": "2020-04-14T20:36:25.958965Z"
    }
   },
   "outputs": [],
   "source": [
    "test_se_to_sd() "
   ]
  },
  {
   "cell_type": "code",
   "execution_count": 12,
   "metadata": {
    "ExecuteTime": {
     "end_time": "2020-04-14T20:37:57.054752Z",
     "start_time": "2020-04-14T20:37:57.049683Z"
    }
   },
   "outputs": [],
   "source": [
    "def test_ci_to_sd():\n",
    "    \"\"\"\n",
    "    Test that the value returned is a float value\n",
    "    \"\"\"\n",
    "    sdev = datavis.ci_to_sd(0.2, 0.4) \n",
    "    assert isinstance(sdev, float),\\\n",
    "    \"Returned data type is not a float number\""
   ]
  },
  {
   "cell_type": "code",
   "execution_count": 13,
   "metadata": {
    "ExecuteTime": {
     "end_time": "2020-04-14T20:38:08.145118Z",
     "start_time": "2020-04-14T20:38:08.141153Z"
    }
   },
   "outputs": [],
   "source": [
    "test_ci_to_sd() "
   ]
  },
  {
   "cell_type": "code",
   "execution_count": 23,
   "metadata": {
    "ExecuteTime": {
     "end_time": "2020-04-14T20:47:47.007224Z",
     "start_time": "2020-04-14T20:47:47.001597Z"
    }
   },
   "outputs": [],
   "source": [
    "def test_datagen():\n",
    "    \"\"\"\n",
    "    Test that the data returned is a numpy.ndarray\n",
    "    \"\"\"\n",
    "    randdata = datavis.datagen(25, 0.2, 0.4)\n",
    "    assert isinstance(randdata, np.ndarray),\\\n",
    "    \"Returned data type is not a numpy.ndarray\""
   ]
  },
  {
   "cell_type": "code",
   "execution_count": 24,
   "metadata": {
    "ExecuteTime": {
     "end_time": "2020-04-14T20:47:48.865190Z",
     "start_time": "2020-04-14T20:47:48.860606Z"
    }
   },
   "outputs": [],
   "source": [
    "test_datagen() "
   ]
  },
  {
   "cell_type": "code",
   "execution_count": 25,
   "metadata": {
    "ExecuteTime": {
     "end_time": "2020-04-14T20:51:52.869858Z",
     "start_time": "2020-04-14T20:51:52.865941Z"
    }
   },
   "outputs": [],
   "source": [
    "def test_correctdatatype():\n",
    "    \"\"\"\n",
    "    Test that the statistical parameters returned are float numbers\n",
    "    \"\"\"\n",
    "    fmean, fsdev, fserror, fuci, flci = datavis.correctdatatype(0.2, 0.4)\n",
    "    assert isinstance(fmean, float),\\\n",
    "    \"Returned data type is not a float number\""
   ]
  },
  {
   "cell_type": "code",
   "execution_count": 26,
   "metadata": {
    "ExecuteTime": {
     "end_time": "2020-04-14T20:52:05.007001Z",
     "start_time": "2020-04-14T20:52:05.002925Z"
    }
   },
   "outputs": [],
   "source": [
    "test_correctdatatype() "
   ]
  },
  {
   "cell_type": "code",
   "execution_count": 45,
   "metadata": {
    "ExecuteTime": {
     "end_time": "2020-04-14T21:10:30.151675Z",
     "start_time": "2020-04-14T21:10:30.146558Z"
    }
   },
   "outputs": [],
   "source": [
    "def test_compounddata():\n",
    "    \"\"\"\n",
    "    Test that the data returned are numpy.ndarrays\n",
    "    \"\"\"\n",
    "    datagenerated1, datagenerated2, datagenerated3 = \\\n",
    "    datavis.compounddata\\\n",
    "    (mean1=24.12,sdev1=3.87,mean2=24.43,sdev2=3.94,mean3=24.82,sdev3=3.95,size=1000) \n",
    "    assert isinstance(datagenerated1, np.ndarray),\\\n",
    "    \"Returned data are not numpy.ndarrays\""
   ]
  },
  {
   "cell_type": "code",
   "execution_count": 46,
   "metadata": {
    "ExecuteTime": {
     "end_time": "2020-04-14T21:10:31.963613Z",
     "start_time": "2020-04-14T21:10:31.958453Z"
    }
   },
   "outputs": [],
   "source": [
    "test_compounddata() "
   ]
  },
  {
   "cell_type": "code",
   "execution_count": 49,
   "metadata": {
    "ExecuteTime": {
     "end_time": "2020-04-14T21:21:18.722612Z",
     "start_time": "2020-04-14T21:21:18.716107Z"
    }
   },
   "outputs": [],
   "source": [
    "def test_databinning():\n",
    "    \"\"\"\n",
    "    Test that the data returned are numpy.ndarrays\n",
    "    \"\"\"\n",
    "    datagenerated1, datagenerated2, datagenerated3 = \\\n",
    "    datavis.compounddata\\\n",
    "    (mean1=24.12,sdev1=3.87,mean2=24.43,sdev2=3.94,mean3=24.82,sdev3=3.95,size=1000)\n",
    "    bins = np.linspace(10,40,num=30)\n",
    "    yhist1, yhist2, yhist3 = \\\n",
    "    datavis.databinning\\\n",
    "    (datagenerated1, datagenerated2, datagenerated3,bins_list=bins) \n",
    "    assert isinstance(yhist1, np.ndarray),\\\n",
    "    \"Returned data are not numpy.ndarrays\""
   ]
  },
  {
   "cell_type": "code",
   "execution_count": 50,
   "metadata": {
    "ExecuteTime": {
     "end_time": "2020-04-14T21:21:22.233400Z",
     "start_time": "2020-04-14T21:21:22.201112Z"
    }
   },
   "outputs": [],
   "source": [
    "test_databinning() "
   ]
  },
  {
   "cell_type": "code",
   "execution_count": 55,
   "metadata": {
    "ExecuteTime": {
     "end_time": "2020-04-14T21:34:37.749216Z",
     "start_time": "2020-04-14T21:34:37.739522Z"
    }
   },
   "outputs": [],
   "source": [
    "def test_pdfgen():\n",
    "    \"\"\"\n",
    "    Test that the data returned are numpy.ndarrays\n",
    "    \"\"\"\n",
    "    bins = np.linspace(10,40,num=30)\n",
    "    mean1 = 24.12\n",
    "    sdev1 = 3.87\n",
    "    mean2 = 24.43\n",
    "    sdev2 = 3.94\n",
    "    mean3 = 24.82\n",
    "    sdev3 = 3.95 \n",
    "    pdf1, pdf2, pdf3 = datavis.pdfgen\\\n",
    "    (mean1, sdev1, mean2, sdev2, mean3, sdev3, bins_list=bins)\n",
    "    assert isinstance(pdf1, np.ndarray),\\\n",
    "    \"Returned data are not numpy.ndarrays\""
   ]
  },
  {
   "cell_type": "code",
   "execution_count": 56,
   "metadata": {
    "ExecuteTime": {
     "end_time": "2020-04-14T21:34:39.682564Z",
     "start_time": "2020-04-14T21:34:39.651425Z"
    }
   },
   "outputs": [],
   "source": [
    "test_pdfgen() "
   ]
  },
  {
   "cell_type": "code",
   "execution_count": 74,
   "metadata": {
    "ExecuteTime": {
     "end_time": "2020-04-14T21:46:48.584043Z",
     "start_time": "2020-04-14T21:46:48.576791Z"
    }
   },
   "outputs": [],
   "source": [
    "def test_percent_overlap():\n",
    "    \"\"\"\n",
    "    Test that the data returned is a tuple\n",
    "    \"\"\"\n",
    "    mean1 = 24.12\n",
    "    sdev1 = 3.87\n",
    "    mean2 = 24.43\n",
    "    sdev2 = 3.94\n",
    "    mean3 = 24.82\n",
    "    sdev3 = 3.95\n",
    "    overlap_11_perc, overlap_12_perc, overlap_13_perc = \\\n",
    "    datavis.percent_overlap\\\n",
    "    (mean1, sdev1, mean2, sdev2, mean3, sdev3)\n",
    "    assert isinstance\\\n",
    "    (datavis.percent_overlap\\\n",
    "     (mean1, sdev1, mean2, sdev2, mean3, sdev3), tuple),\\\n",
    "    \"Returned data is not numpy.float64 type\""
   ]
  },
  {
   "cell_type": "code",
   "execution_count": 75,
   "metadata": {
    "ExecuteTime": {
     "end_time": "2020-04-14T21:46:51.631049Z",
     "start_time": "2020-04-14T21:46:51.626646Z"
    }
   },
   "outputs": [],
   "source": [
    "test_percent_overlap() "
   ]
  }
 ],
 "metadata": {
  "kernelspec": {
   "display_name": "Python 3",
   "language": "python",
   "name": "python3"
  },
  "language_info": {
   "codemirror_mode": {
    "name": "ipython",
    "version": 3
   },
   "file_extension": ".py",
   "mimetype": "text/x-python",
   "name": "python",
   "nbconvert_exporter": "python",
   "pygments_lexer": "ipython3",
   "version": "3.8.2"
  },
  "toc": {
   "base_numbering": 1,
   "nav_menu": {},
   "number_sections": true,
   "sideBar": true,
   "skip_h1_title": false,
   "title_cell": "Table of Contents",
   "title_sidebar": "Contents",
   "toc_cell": false,
   "toc_position": {},
   "toc_section_display": true,
   "toc_window_display": false
  },
  "varInspector": {
   "cols": {
    "lenName": 16,
    "lenType": 16,
    "lenVar": 40
   },
   "kernels_config": {
    "python": {
     "delete_cmd_postfix": "",
     "delete_cmd_prefix": "del ",
     "library": "var_list.py",
     "varRefreshCmd": "print(var_dic_list())"
    },
    "r": {
     "delete_cmd_postfix": ") ",
     "delete_cmd_prefix": "rm(",
     "library": "var_list.r",
     "varRefreshCmd": "cat(var_dic_list()) "
    }
   },
   "types_to_exclude": [
    "module",
    "function",
    "builtin_function_or_method",
    "instance",
    "_Feature"
   ],
   "window_display": false
  }
 },
 "nbformat": 4,
 "nbformat_minor": 4
}
