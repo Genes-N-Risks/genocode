{
 "cells": [
  {
   "cell_type": "markdown",
   "metadata": {},
   "source": [
    "### convert txt file to csv with data cleaning \n",
    "- get rid of extra texts\n",
    "- are the labels always the same??\n",
    "- replace missing input to Nan\n",
    "- normalize data types (string)"
   ]
  },
  {
   "cell_type": "code",
   "execution_count": 1,
   "metadata": {},
   "outputs": [],
   "source": [
    "import pandas as pd"
   ]
  },
  {
   "cell_type": "code",
   "execution_count": 3,
   "metadata": {},
   "outputs": [],
   "source": [
    "def tocsv(filepath):\n",
    "    fopen = open(filepath,mode='r+')\n",
    "    fread = fopen.readlines()\n",
    "    x = '# rsid\tchromosome\tposition\tgenotype'\n",
    "    n = 0\n",
    "    for line in fread:\n",
    "        n += 1\n",
    "        if x in line:\n",
    "            break\n",
    "    txt = pd.read_csv (filepath,'\\s+', skiprows=n, names=['rsid','chromosome','position','genotype'])\n",
    "    txt.to_csv('../genome_Thomas_Wood.csv',index=False)\n",
    "    df = pd.read_csv('../genome_Thomas_Wood.csv', dtype={'rsid': str, 'chromosome': str,'position': str, 'genotype': str})\n",
    "    return df.replace('--', 'NaN')"
   ]
  },
  {
   "cell_type": "code",
   "execution_count": 29,
   "metadata": {},
   "outputs": [
    {
     "name": "stderr",
     "output_type": "stream",
     "text": [
      "/Users/julyzhou/opt/miniconda3/lib/python3.7/site-packages/IPython/core/interactiveshell.py:3242: DtypeWarning: Columns (1) have mixed types.Specify dtype option on import or set low_memory=False.\n",
      "  if (await self.run_code(code, result,  async_=asy)):\n"
     ]
    }
   ],
   "source": [
    "df = tocsv('../genome_Thomas_Wood.txt')"
   ]
  },
  {
   "cell_type": "code",
   "execution_count": 30,
   "metadata": {},
   "outputs": [
    {
     "data": {
      "text/plain": [
       "(601895, 4)"
      ]
     },
     "execution_count": 30,
     "metadata": {},
     "output_type": "execute_result"
    }
   ],
   "source": [
    "df.shape"
   ]
  },
  {
   "cell_type": "code",
   "execution_count": 6,
   "metadata": {},
   "outputs": [
    {
     "data": {
      "text/plain": [
       "601895"
      ]
     },
     "execution_count": 6,
     "metadata": {},
     "output_type": "execute_result"
    }
   ],
   "source": [
    "len(df['rsid'].unique())"
   ]
  },
  {
   "cell_type": "code",
   "execution_count": 7,
   "metadata": {},
   "outputs": [
    {
     "data": {
      "text/plain": [
       "25"
      ]
     },
     "execution_count": 7,
     "metadata": {},
     "output_type": "execute_result"
    }
   ],
   "source": [
    "len(df['chromosome'].unique())"
   ]
  },
  {
   "cell_type": "code",
   "execution_count": 8,
   "metadata": {},
   "outputs": [
    {
     "data": {
      "text/plain": [
       "601895"
      ]
     },
     "execution_count": 8,
     "metadata": {},
     "output_type": "execute_result"
    }
   ],
   "source": [
    "len(df['rsid'].unique())"
   ]
  },
  {
   "cell_type": "code",
   "execution_count": 9,
   "metadata": {},
   "outputs": [
    {
     "data": {
      "text/plain": [
       "597405"
      ]
     },
     "execution_count": 9,
     "metadata": {},
     "output_type": "execute_result"
    }
   ],
   "source": [
    "len(df['position'].unique())"
   ]
  },
  {
   "cell_type": "code",
   "execution_count": 10,
   "metadata": {},
   "outputs": [
    {
     "data": {
      "text/plain": [
       "20"
      ]
     },
     "execution_count": 10,
     "metadata": {},
     "output_type": "execute_result"
    }
   ],
   "source": [
    "len(df['genotype'].unique())"
   ]
  },
  {
   "cell_type": "code",
   "execution_count": 11,
   "metadata": {},
   "outputs": [
    {
     "data": {
      "text/plain": [
       "array(['AA', 'AG', 'CC', 'NaN', 'GG', 'TT', 'GT', 'CT', 'AC', 'CG', 'AT',\n",
       "       'II', 'DD', 'DI', 'G', 'C', 'T', 'A', 'I', 'D'], dtype=object)"
      ]
     },
     "execution_count": 11,
     "metadata": {},
     "output_type": "execute_result"
    }
   ],
   "source": [
    "df['genotype'].unique()"
   ]
  },
  {
   "cell_type": "code",
   "execution_count": 12,
   "metadata": {},
   "outputs": [
    {
     "data": {
      "text/html": [
       "<div>\n",
       "<style scoped>\n",
       "    .dataframe tbody tr th:only-of-type {\n",
       "        vertical-align: middle;\n",
       "    }\n",
       "\n",
       "    .dataframe tbody tr th {\n",
       "        vertical-align: top;\n",
       "    }\n",
       "\n",
       "    .dataframe thead th {\n",
       "        text-align: right;\n",
       "    }\n",
       "</style>\n",
       "<table border=\"1\" class=\"dataframe\">\n",
       "  <thead>\n",
       "    <tr style=\"text-align: right;\">\n",
       "      <th></th>\n",
       "      <th>rsid</th>\n",
       "      <th>chromosome</th>\n",
       "      <th>position</th>\n",
       "      <th>genotype</th>\n",
       "    </tr>\n",
       "  </thead>\n",
       "  <tbody>\n",
       "    <tr>\n",
       "      <th>485070</th>\n",
       "      <td>rs9939609</td>\n",
       "      <td>16</td>\n",
       "      <td>53820527</td>\n",
       "      <td>AT</td>\n",
       "    </tr>\n",
       "  </tbody>\n",
       "</table>\n",
       "</div>"
      ],
      "text/plain": [
       "             rsid chromosome  position genotype\n",
       "485070  rs9939609         16  53820527       AT"
      ]
     },
     "execution_count": 12,
     "metadata": {},
     "output_type": "execute_result"
    }
   ],
   "source": [
    "df[df['rsid'] == 'rs9939609']"
   ]
  },
  {
   "cell_type": "code",
   "execution_count": 13,
   "metadata": {},
   "outputs": [
    {
     "data": {
      "text/html": [
       "<div>\n",
       "<style scoped>\n",
       "    .dataframe tbody tr th:only-of-type {\n",
       "        vertical-align: middle;\n",
       "    }\n",
       "\n",
       "    .dataframe tbody tr th {\n",
       "        vertical-align: top;\n",
       "    }\n",
       "\n",
       "    .dataframe thead th {\n",
       "        text-align: right;\n",
       "    }\n",
       "</style>\n",
       "<table border=\"1\" class=\"dataframe\">\n",
       "  <thead>\n",
       "    <tr style=\"text-align: right;\">\n",
       "      <th></th>\n",
       "      <th>rsid</th>\n",
       "      <th>chromosome</th>\n",
       "      <th>position</th>\n",
       "      <th>genotype</th>\n",
       "    </tr>\n",
       "  </thead>\n",
       "  <tbody>\n",
       "    <tr>\n",
       "      <th>46796</th>\n",
       "      <td>rs6548238</td>\n",
       "      <td>2</td>\n",
       "      <td>634905</td>\n",
       "      <td>CC</td>\n",
       "    </tr>\n",
       "  </tbody>\n",
       "</table>\n",
       "</div>"
      ],
      "text/plain": [
       "            rsid chromosome position genotype\n",
       "46796  rs6548238          2   634905       CC"
      ]
     },
     "execution_count": 13,
     "metadata": {},
     "output_type": "execute_result"
    }
   ],
   "source": [
    "df[df['rsid'] == 'rs6548238']"
   ]
  },
  {
   "cell_type": "code",
   "execution_count": 14,
   "metadata": {},
   "outputs": [
    {
     "data": {
      "text/html": [
       "<div>\n",
       "<style scoped>\n",
       "    .dataframe tbody tr th:only-of-type {\n",
       "        vertical-align: middle;\n",
       "    }\n",
       "\n",
       "    .dataframe tbody tr th {\n",
       "        vertical-align: top;\n",
       "    }\n",
       "\n",
       "    .dataframe thead th {\n",
       "        text-align: right;\n",
       "    }\n",
       "</style>\n",
       "<table border=\"1\" class=\"dataframe\">\n",
       "  <thead>\n",
       "    <tr style=\"text-align: right;\">\n",
       "      <th></th>\n",
       "      <th>rsid</th>\n",
       "      <th>chromosome</th>\n",
       "      <th>position</th>\n",
       "      <th>genotype</th>\n",
       "    </tr>\n",
       "  </thead>\n",
       "  <tbody>\n",
       "    <tr>\n",
       "      <th>524958</th>\n",
       "      <td>rs17782313</td>\n",
       "      <td>18</td>\n",
       "      <td>57851097</td>\n",
       "      <td>TT</td>\n",
       "    </tr>\n",
       "  </tbody>\n",
       "</table>\n",
       "</div>"
      ],
      "text/plain": [
       "              rsid chromosome  position genotype\n",
       "524958  rs17782313         18  57851097       TT"
      ]
     },
     "execution_count": 14,
     "metadata": {},
     "output_type": "execute_result"
    }
   ],
   "source": [
    "df[df['rsid'] == 'rs17782313']"
   ]
  },
  {
   "cell_type": "code",
   "execution_count": 15,
   "metadata": {},
   "outputs": [
    {
     "data": {
      "text/html": [
       "<div>\n",
       "<style scoped>\n",
       "    .dataframe tbody tr th:only-of-type {\n",
       "        vertical-align: middle;\n",
       "    }\n",
       "\n",
       "    .dataframe tbody tr th {\n",
       "        vertical-align: top;\n",
       "    }\n",
       "\n",
       "    .dataframe thead th {\n",
       "        text-align: right;\n",
       "    }\n",
       "</style>\n",
       "<table border=\"1\" class=\"dataframe\">\n",
       "  <thead>\n",
       "    <tr style=\"text-align: right;\">\n",
       "      <th></th>\n",
       "      <th>rsid</th>\n",
       "      <th>chromosome</th>\n",
       "      <th>position</th>\n",
       "      <th>genotype</th>\n",
       "    </tr>\n",
       "  </thead>\n",
       "  <tbody>\n",
       "    <tr>\n",
       "      <th>140654</th>\n",
       "      <td>rs10938397</td>\n",
       "      <td>4</td>\n",
       "      <td>45182527</td>\n",
       "      <td>AA</td>\n",
       "    </tr>\n",
       "  </tbody>\n",
       "</table>\n",
       "</div>"
      ],
      "text/plain": [
       "              rsid chromosome  position genotype\n",
       "140654  rs10938397          4  45182527       AA"
      ]
     },
     "execution_count": 15,
     "metadata": {},
     "output_type": "execute_result"
    }
   ],
   "source": [
    "df[df['rsid'] == 'rs10938397']"
   ]
  },
  {
   "cell_type": "code",
   "execution_count": 16,
   "metadata": {},
   "outputs": [
    {
     "data": {
      "text/html": [
       "<div>\n",
       "<style scoped>\n",
       "    .dataframe tbody tr th:only-of-type {\n",
       "        vertical-align: middle;\n",
       "    }\n",
       "\n",
       "    .dataframe tbody tr th {\n",
       "        vertical-align: top;\n",
       "    }\n",
       "\n",
       "    .dataframe thead th {\n",
       "        text-align: right;\n",
       "    }\n",
       "</style>\n",
       "<table border=\"1\" class=\"dataframe\">\n",
       "  <thead>\n",
       "    <tr style=\"text-align: right;\">\n",
       "      <th></th>\n",
       "      <th>rsid</th>\n",
       "      <th>chromosome</th>\n",
       "      <th>position</th>\n",
       "      <th>genotype</th>\n",
       "    </tr>\n",
       "  </thead>\n",
       "  <tbody>\n",
       "  </tbody>\n",
       "</table>\n",
       "</div>"
      ],
      "text/plain": [
       "Empty DataFrame\n",
       "Columns: [rsid, chromosome, position, genotype]\n",
       "Index: []"
      ]
     },
     "execution_count": 16,
     "metadata": {},
     "output_type": "execute_result"
    }
   ],
   "source": [
    "df[df['rsid'] == 'rs7498665']"
   ]
  },
  {
   "cell_type": "code",
   "execution_count": 17,
   "metadata": {},
   "outputs": [
    {
     "data": {
      "text/html": [
       "<div>\n",
       "<style scoped>\n",
       "    .dataframe tbody tr th:only-of-type {\n",
       "        vertical-align: middle;\n",
       "    }\n",
       "\n",
       "    .dataframe tbody tr th {\n",
       "        vertical-align: top;\n",
       "    }\n",
       "\n",
       "    .dataframe thead th {\n",
       "        text-align: right;\n",
       "    }\n",
       "</style>\n",
       "<table border=\"1\" class=\"dataframe\">\n",
       "  <thead>\n",
       "    <tr style=\"text-align: right;\">\n",
       "      <th></th>\n",
       "      <th>rsid</th>\n",
       "      <th>chromosome</th>\n",
       "      <th>position</th>\n",
       "      <th>genotype</th>\n",
       "    </tr>\n",
       "  </thead>\n",
       "  <tbody>\n",
       "    <tr>\n",
       "      <th>370804</th>\n",
       "      <td>rs10838738</td>\n",
       "      <td>11</td>\n",
       "      <td>47663049</td>\n",
       "      <td>GG</td>\n",
       "    </tr>\n",
       "  </tbody>\n",
       "</table>\n",
       "</div>"
      ],
      "text/plain": [
       "              rsid chromosome  position genotype\n",
       "370804  rs10838738         11  47663049       GG"
      ]
     },
     "execution_count": 17,
     "metadata": {},
     "output_type": "execute_result"
    }
   ],
   "source": [
    "df[df['rsid'] == 'rs10838738']"
   ]
  },
  {
   "cell_type": "code",
   "execution_count": 18,
   "metadata": {},
   "outputs": [
    {
     "data": {
      "text/html": [
       "<div>\n",
       "<style scoped>\n",
       "    .dataframe tbody tr th:only-of-type {\n",
       "        vertical-align: middle;\n",
       "    }\n",
       "\n",
       "    .dataframe tbody tr th {\n",
       "        vertical-align: top;\n",
       "    }\n",
       "\n",
       "    .dataframe thead th {\n",
       "        text-align: right;\n",
       "    }\n",
       "</style>\n",
       "<table border=\"1\" class=\"dataframe\">\n",
       "  <thead>\n",
       "    <tr style=\"text-align: right;\">\n",
       "      <th></th>\n",
       "      <th>rsid</th>\n",
       "      <th>chromosome</th>\n",
       "      <th>position</th>\n",
       "      <th>genotype</th>\n",
       "    </tr>\n",
       "  </thead>\n",
       "  <tbody>\n",
       "    <tr>\n",
       "      <th>536902</th>\n",
       "      <td>rs11084753</td>\n",
       "      <td>19</td>\n",
       "      <td>34322137</td>\n",
       "      <td>AG</td>\n",
       "    </tr>\n",
       "  </tbody>\n",
       "</table>\n",
       "</div>"
      ],
      "text/plain": [
       "              rsid chromosome  position genotype\n",
       "536902  rs11084753         19  34322137       AG"
      ]
     },
     "execution_count": 18,
     "metadata": {},
     "output_type": "execute_result"
    }
   ],
   "source": [
    "df[df['rsid'] == 'rs11084753']"
   ]
  },
  {
   "cell_type": "code",
   "execution_count": 19,
   "metadata": {},
   "outputs": [
    {
     "data": {
      "text/html": [
       "<div>\n",
       "<style scoped>\n",
       "    .dataframe tbody tr th:only-of-type {\n",
       "        vertical-align: middle;\n",
       "    }\n",
       "\n",
       "    .dataframe tbody tr th {\n",
       "        vertical-align: top;\n",
       "    }\n",
       "\n",
       "    .dataframe thead th {\n",
       "        text-align: right;\n",
       "    }\n",
       "</style>\n",
       "<table border=\"1\" class=\"dataframe\">\n",
       "  <thead>\n",
       "    <tr style=\"text-align: right;\">\n",
       "      <th></th>\n",
       "      <th>rsid</th>\n",
       "      <th>chromosome</th>\n",
       "      <th>position</th>\n",
       "      <th>genotype</th>\n",
       "    </tr>\n",
       "  </thead>\n",
       "  <tbody>\n",
       "    <tr>\n",
       "      <th>15258</th>\n",
       "      <td>rs2815752</td>\n",
       "      <td>1</td>\n",
       "      <td>72812440</td>\n",
       "      <td>AG</td>\n",
       "    </tr>\n",
       "  </tbody>\n",
       "</table>\n",
       "</div>"
      ],
      "text/plain": [
       "            rsid chromosome  position genotype\n",
       "15258  rs2815752          1  72812440       AG"
      ]
     },
     "execution_count": 19,
     "metadata": {},
     "output_type": "execute_result"
    }
   ],
   "source": [
    "df[df['rsid'] == 'rs2815752']"
   ]
  },
  {
   "cell_type": "code",
   "execution_count": 20,
   "metadata": {},
   "outputs": [],
   "source": [
    "def bmi(df):\n",
    "    df = df[(df['rsid'] == 'rs9939609') | \n",
    "            (df['rsid'] =='rs6548238') |\n",
    "            (df['rsid'] == 'rs17782313') |\n",
    "            (df['rsid'] == 'rs10938397') | \n",
    "            (df['rsid'] == 'rs7498665') | \n",
    "            (df['rsid'] == 'rs10838738') | \n",
    "            (df['rsid'] == 'rs11084753') | \n",
    "            (df['rsid'] == 'rs2815752')]\n",
    "    return df"
   ]
  },
  {
   "cell_type": "markdown",
   "metadata": {},
   "source": [
    "### BMI: rs7498665 not in the genetic test result"
   ]
  },
  {
   "cell_type": "code",
   "execution_count": 21,
   "metadata": {},
   "outputs": [
    {
     "data": {
      "text/html": [
       "<div>\n",
       "<style scoped>\n",
       "    .dataframe tbody tr th:only-of-type {\n",
       "        vertical-align: middle;\n",
       "    }\n",
       "\n",
       "    .dataframe tbody tr th {\n",
       "        vertical-align: top;\n",
       "    }\n",
       "\n",
       "    .dataframe thead th {\n",
       "        text-align: right;\n",
       "    }\n",
       "</style>\n",
       "<table border=\"1\" class=\"dataframe\">\n",
       "  <thead>\n",
       "    <tr style=\"text-align: right;\">\n",
       "      <th></th>\n",
       "      <th>rsid</th>\n",
       "      <th>chromosome</th>\n",
       "      <th>position</th>\n",
       "      <th>genotype</th>\n",
       "    </tr>\n",
       "  </thead>\n",
       "  <tbody>\n",
       "    <tr>\n",
       "      <th>15258</th>\n",
       "      <td>rs2815752</td>\n",
       "      <td>1</td>\n",
       "      <td>72812440</td>\n",
       "      <td>AG</td>\n",
       "    </tr>\n",
       "    <tr>\n",
       "      <th>46796</th>\n",
       "      <td>rs6548238</td>\n",
       "      <td>2</td>\n",
       "      <td>634905</td>\n",
       "      <td>CC</td>\n",
       "    </tr>\n",
       "    <tr>\n",
       "      <th>140654</th>\n",
       "      <td>rs10938397</td>\n",
       "      <td>4</td>\n",
       "      <td>45182527</td>\n",
       "      <td>AA</td>\n",
       "    </tr>\n",
       "    <tr>\n",
       "      <th>370804</th>\n",
       "      <td>rs10838738</td>\n",
       "      <td>11</td>\n",
       "      <td>47663049</td>\n",
       "      <td>GG</td>\n",
       "    </tr>\n",
       "    <tr>\n",
       "      <th>485070</th>\n",
       "      <td>rs9939609</td>\n",
       "      <td>16</td>\n",
       "      <td>53820527</td>\n",
       "      <td>AT</td>\n",
       "    </tr>\n",
       "    <tr>\n",
       "      <th>524958</th>\n",
       "      <td>rs17782313</td>\n",
       "      <td>18</td>\n",
       "      <td>57851097</td>\n",
       "      <td>TT</td>\n",
       "    </tr>\n",
       "    <tr>\n",
       "      <th>536902</th>\n",
       "      <td>rs11084753</td>\n",
       "      <td>19</td>\n",
       "      <td>34322137</td>\n",
       "      <td>AG</td>\n",
       "    </tr>\n",
       "  </tbody>\n",
       "</table>\n",
       "</div>"
      ],
      "text/plain": [
       "              rsid chromosome  position genotype\n",
       "15258    rs2815752          1  72812440       AG\n",
       "46796    rs6548238          2    634905       CC\n",
       "140654  rs10938397          4  45182527       AA\n",
       "370804  rs10838738         11  47663049       GG\n",
       "485070   rs9939609         16  53820527       AT\n",
       "524958  rs17782313         18  57851097       TT\n",
       "536902  rs11084753         19  34322137       AG"
      ]
     },
     "execution_count": 21,
     "metadata": {},
     "output_type": "execute_result"
    }
   ],
   "source": [
    "df2 = bmi(df)\n",
    "df2"
   ]
  },
  {
   "cell_type": "markdown",
   "metadata": {},
   "source": [
    "### type 2 diabetes: rs14607517 not in the genetic test result"
   ]
  },
  {
   "cell_type": "code",
   "execution_count": 22,
   "metadata": {},
   "outputs": [],
   "source": [
    "def diabetes(df):\n",
    "    df = df[(df['rsid'] == 'rs560887') | \n",
    "            (df['rsid'] =='rs10830963') |\n",
    "            (df['rsid'] == 'rs14607517')|\n",
    "            (df['rsid'] == 'rs2191349') | \n",
    "            (df['rsid'] == 'rs780094') | \n",
    "            (df['rsid'] == 'rs11708067') | \n",
    "            (df['rsid'] == 'rs7944584') | \n",
    "            (df['rsid'] == 'rs10885122')]\n",
    "    return df"
   ]
  },
  {
   "cell_type": "code",
   "execution_count": 23,
   "metadata": {},
   "outputs": [
    {
     "data": {
      "text/html": [
       "<div>\n",
       "<style scoped>\n",
       "    .dataframe tbody tr th:only-of-type {\n",
       "        vertical-align: middle;\n",
       "    }\n",
       "\n",
       "    .dataframe tbody tr th {\n",
       "        vertical-align: top;\n",
       "    }\n",
       "\n",
       "    .dataframe thead th {\n",
       "        text-align: right;\n",
       "    }\n",
       "</style>\n",
       "<table border=\"1\" class=\"dataframe\">\n",
       "  <thead>\n",
       "    <tr style=\"text-align: right;\">\n",
       "      <th></th>\n",
       "      <th>rsid</th>\n",
       "      <th>chromosome</th>\n",
       "      <th>position</th>\n",
       "      <th>genotype</th>\n",
       "    </tr>\n",
       "  </thead>\n",
       "  <tbody>\n",
       "    <tr>\n",
       "      <th>52647</th>\n",
       "      <td>rs780094</td>\n",
       "      <td>2</td>\n",
       "      <td>27741237</td>\n",
       "      <td>CT</td>\n",
       "    </tr>\n",
       "    <tr>\n",
       "      <th>78491</th>\n",
       "      <td>rs560887</td>\n",
       "      <td>2</td>\n",
       "      <td>169763148</td>\n",
       "      <td>CC</td>\n",
       "    </tr>\n",
       "    <tr>\n",
       "      <th>117406</th>\n",
       "      <td>rs11708067</td>\n",
       "      <td>3</td>\n",
       "      <td>123065778</td>\n",
       "      <td>AG</td>\n",
       "    </tr>\n",
       "    <tr>\n",
       "      <th>244041</th>\n",
       "      <td>rs2191349</td>\n",
       "      <td>7</td>\n",
       "      <td>15064309</td>\n",
       "      <td>GT</td>\n",
       "    </tr>\n",
       "    <tr>\n",
       "      <th>353196</th>\n",
       "      <td>rs10885122</td>\n",
       "      <td>10</td>\n",
       "      <td>113042093</td>\n",
       "      <td>GG</td>\n",
       "    </tr>\n",
       "    <tr>\n",
       "      <th>370619</th>\n",
       "      <td>rs7944584</td>\n",
       "      <td>11</td>\n",
       "      <td>47336320</td>\n",
       "      <td>AA</td>\n",
       "    </tr>\n",
       "    <tr>\n",
       "      <th>378214</th>\n",
       "      <td>rs10830963</td>\n",
       "      <td>11</td>\n",
       "      <td>92708710</td>\n",
       "      <td>CG</td>\n",
       "    </tr>\n",
       "  </tbody>\n",
       "</table>\n",
       "</div>"
      ],
      "text/plain": [
       "              rsid chromosome   position genotype\n",
       "52647     rs780094          2   27741237       CT\n",
       "78491     rs560887          2  169763148       CC\n",
       "117406  rs11708067          3  123065778       AG\n",
       "244041   rs2191349          7   15064309       GT\n",
       "353196  rs10885122         10  113042093       GG\n",
       "370619   rs7944584         11   47336320       AA\n",
       "378214  rs10830963         11   92708710       CG"
      ]
     },
     "execution_count": 23,
     "metadata": {},
     "output_type": "execute_result"
    }
   ],
   "source": [
    "df3 = diabetes(df)\n",
    "df3"
   ]
  },
  {
   "cell_type": "code",
   "execution_count": 24,
   "metadata": {},
   "outputs": [
    {
     "data": {
      "text/html": [
       "<div>\n",
       "<style scoped>\n",
       "    .dataframe tbody tr th:only-of-type {\n",
       "        vertical-align: middle;\n",
       "    }\n",
       "\n",
       "    .dataframe tbody tr th {\n",
       "        vertical-align: top;\n",
       "    }\n",
       "\n",
       "    .dataframe thead th {\n",
       "        text-align: right;\n",
       "    }\n",
       "</style>\n",
       "<table border=\"1\" class=\"dataframe\">\n",
       "  <thead>\n",
       "    <tr style=\"text-align: right;\">\n",
       "      <th></th>\n",
       "      <th>rsid</th>\n",
       "      <th>chromosome</th>\n",
       "      <th>position</th>\n",
       "      <th>genotype</th>\n",
       "    </tr>\n",
       "  </thead>\n",
       "  <tbody>\n",
       "  </tbody>\n",
       "</table>\n",
       "</div>"
      ],
      "text/plain": [
       "Empty DataFrame\n",
       "Columns: [rsid, chromosome, position, genotype]\n",
       "Index: []"
      ]
     },
     "execution_count": 24,
     "metadata": {},
     "output_type": "execute_result"
    }
   ],
   "source": [
    "df[df['rsid'] == 'rs14607517']"
   ]
  },
  {
   "cell_type": "markdown",
   "metadata": {},
   "source": [
    "### 17 rsid --> 13 rsid : 4 rsid not in the genetic test result"
   ]
  },
  {
   "cell_type": "code",
   "execution_count": 61,
   "metadata": {},
   "outputs": [],
   "source": [
    "def diabetestotal(df):\n",
    "    df = df[(df['rsid'] == 'rs560887') | \n",
    "            (df['rsid'] =='rs10830963') |\n",
    "            (df['rsid'] == 'rs14607517')|\n",
    "            (df['rsid'] == 'rs2191349') | \n",
    "            (df['rsid'] == 'rs780094') | \n",
    "            (df['rsid'] == 'rs11708067') | \n",
    "            (df['rsid'] == 'rs7944584') | \n",
    "            (df['rsid'] == 'rs10885122') | \n",
    "            (df['rsid'] == 'rs174550') |\n",
    "            (df['rsid'] == 'rs11605924') |\n",
    "            (df['rsid'] == 'rs11920090') |\n",
    "            (df['rsid'] == 'rs7034200') |\n",
    "            (df['rsid'] == 'rs340874') |\n",
    "            (df['rsid'] == 'rs11071657') |\n",
    "            (df['rsid'] == 'rs13266634') |\n",
    "            (df['rsid'] == 'rs7903146') |\n",
    "            (df['rsid'] == 'rs35767')]           \n",
    "    return df"
   ]
  },
  {
   "cell_type": "code",
   "execution_count": 55,
   "metadata": {},
   "outputs": [
    {
     "data": {
      "text/html": [
       "<div>\n",
       "<style scoped>\n",
       "    .dataframe tbody tr th:only-of-type {\n",
       "        vertical-align: middle;\n",
       "    }\n",
       "\n",
       "    .dataframe tbody tr th {\n",
       "        vertical-align: top;\n",
       "    }\n",
       "\n",
       "    .dataframe thead th {\n",
       "        text-align: right;\n",
       "    }\n",
       "</style>\n",
       "<table border=\"1\" class=\"dataframe\">\n",
       "  <thead>\n",
       "    <tr style=\"text-align: right;\">\n",
       "      <th></th>\n",
       "      <th>rsid</th>\n",
       "      <th>chromosome</th>\n",
       "      <th>position</th>\n",
       "      <th>genotype</th>\n",
       "    </tr>\n",
       "  </thead>\n",
       "  <tbody>\n",
       "    <tr>\n",
       "      <th>38622</th>\n",
       "      <td>rs340874</td>\n",
       "      <td>1</td>\n",
       "      <td>214159256</td>\n",
       "      <td>TT</td>\n",
       "    </tr>\n",
       "    <tr>\n",
       "      <th>52647</th>\n",
       "      <td>rs780094</td>\n",
       "      <td>2</td>\n",
       "      <td>27741237</td>\n",
       "      <td>CT</td>\n",
       "    </tr>\n",
       "    <tr>\n",
       "      <th>78491</th>\n",
       "      <td>rs560887</td>\n",
       "      <td>2</td>\n",
       "      <td>169763148</td>\n",
       "      <td>CC</td>\n",
       "    </tr>\n",
       "    <tr>\n",
       "      <th>117406</th>\n",
       "      <td>rs11708067</td>\n",
       "      <td>3</td>\n",
       "      <td>123065778</td>\n",
       "      <td>AG</td>\n",
       "    </tr>\n",
       "    <tr>\n",
       "      <th>244041</th>\n",
       "      <td>rs2191349</td>\n",
       "      <td>7</td>\n",
       "      <td>15064309</td>\n",
       "      <td>GT</td>\n",
       "    </tr>\n",
       "    <tr>\n",
       "      <th>296738</th>\n",
       "      <td>rs13266634</td>\n",
       "      <td>8</td>\n",
       "      <td>118184783</td>\n",
       "      <td>CC</td>\n",
       "    </tr>\n",
       "    <tr>\n",
       "      <th>304963</th>\n",
       "      <td>rs7034200</td>\n",
       "      <td>9</td>\n",
       "      <td>4289050</td>\n",
       "      <td>AC</td>\n",
       "    </tr>\n",
       "    <tr>\n",
       "      <th>353196</th>\n",
       "      <td>rs10885122</td>\n",
       "      <td>10</td>\n",
       "      <td>113042093</td>\n",
       "      <td>GG</td>\n",
       "    </tr>\n",
       "    <tr>\n",
       "      <th>353549</th>\n",
       "      <td>rs7903146</td>\n",
       "      <td>10</td>\n",
       "      <td>114758349</td>\n",
       "      <td>CT</td>\n",
       "    </tr>\n",
       "    <tr>\n",
       "      <th>370407</th>\n",
       "      <td>rs11605924</td>\n",
       "      <td>11</td>\n",
       "      <td>45873091</td>\n",
       "      <td>AC</td>\n",
       "    </tr>\n",
       "    <tr>\n",
       "      <th>370619</th>\n",
       "      <td>rs7944584</td>\n",
       "      <td>11</td>\n",
       "      <td>47336320</td>\n",
       "      <td>AA</td>\n",
       "    </tr>\n",
       "    <tr>\n",
       "      <th>372277</th>\n",
       "      <td>rs174550</td>\n",
       "      <td>11</td>\n",
       "      <td>61571478</td>\n",
       "      <td>CT</td>\n",
       "    </tr>\n",
       "    <tr>\n",
       "      <th>378214</th>\n",
       "      <td>rs10830963</td>\n",
       "      <td>11</td>\n",
       "      <td>92708710</td>\n",
       "      <td>CG</td>\n",
       "    </tr>\n",
       "  </tbody>\n",
       "</table>\n",
       "</div>"
      ],
      "text/plain": [
       "              rsid chromosome   position genotype\n",
       "38622     rs340874          1  214159256       TT\n",
       "52647     rs780094          2   27741237       CT\n",
       "78491     rs560887          2  169763148       CC\n",
       "117406  rs11708067          3  123065778       AG\n",
       "244041   rs2191349          7   15064309       GT\n",
       "296738  rs13266634          8  118184783       CC\n",
       "304963   rs7034200          9    4289050       AC\n",
       "353196  rs10885122         10  113042093       GG\n",
       "353549   rs7903146         10  114758349       CT\n",
       "370407  rs11605924         11   45873091       AC\n",
       "370619   rs7944584         11   47336320       AA\n",
       "372277    rs174550         11   61571478       CT\n",
       "378214  rs10830963         11   92708710       CG"
      ]
     },
     "execution_count": 55,
     "metadata": {},
     "output_type": "execute_result"
    }
   ],
   "source": [
    "df4 = diabetestotal(df)\n",
    "df4"
   ]
  },
  {
   "cell_type": "code",
   "execution_count": 56,
   "metadata": {},
   "outputs": [
    {
     "data": {
      "text/plain": [
       "(13, 4)"
      ]
     },
     "execution_count": 56,
     "metadata": {},
     "output_type": "execute_result"
    }
   ],
   "source": [
    "df4.shape"
   ]
  },
  {
   "cell_type": "code",
   "execution_count": 90,
   "metadata": {
    "scrolled": true
   },
   "outputs": [
    {
     "data": {
      "text/html": [
       "<div>\n",
       "<style scoped>\n",
       "    .dataframe tbody tr th:only-of-type {\n",
       "        vertical-align: middle;\n",
       "    }\n",
       "\n",
       "    .dataframe tbody tr th {\n",
       "        vertical-align: top;\n",
       "    }\n",
       "\n",
       "    .dataframe thead th {\n",
       "        text-align: right;\n",
       "    }\n",
       "</style>\n",
       "<table border=\"1\" class=\"dataframe\">\n",
       "  <thead>\n",
       "    <tr style=\"text-align: right;\">\n",
       "      <th></th>\n",
       "      <th>phenotype</th>\n",
       "      <th>rsid</th>\n",
       "      <th>gene</th>\n",
       "      <th>genotype</th>\n",
       "      <th>effect</th>\n",
       "    </tr>\n",
       "  </thead>\n",
       "  <tbody>\n",
       "    <tr>\n",
       "      <th>0</th>\n",
       "      <td>BMI</td>\n",
       "      <td>rs9939609</td>\n",
       "      <td>FTO</td>\n",
       "      <td>TT</td>\n",
       "      <td>0.00</td>\n",
       "    </tr>\n",
       "    <tr>\n",
       "      <th>1</th>\n",
       "      <td>BMI</td>\n",
       "      <td>rs9939609</td>\n",
       "      <td>FTO</td>\n",
       "      <td>AT</td>\n",
       "      <td>1.25</td>\n",
       "    </tr>\n",
       "    <tr>\n",
       "      <th>2</th>\n",
       "      <td>BMI</td>\n",
       "      <td>rs9939609</td>\n",
       "      <td>FTO</td>\n",
       "      <td>AA</td>\n",
       "      <td>2.50</td>\n",
       "    </tr>\n",
       "    <tr>\n",
       "      <th>3</th>\n",
       "      <td>BMI</td>\n",
       "      <td>rs6548238</td>\n",
       "      <td>TMEM18</td>\n",
       "      <td>TT</td>\n",
       "      <td>0.00</td>\n",
       "    </tr>\n",
       "    <tr>\n",
       "      <th>4</th>\n",
       "      <td>BMI</td>\n",
       "      <td>rs6548238</td>\n",
       "      <td>TMEM18</td>\n",
       "      <td>CT</td>\n",
       "      <td>1.19</td>\n",
       "    </tr>\n",
       "  </tbody>\n",
       "</table>\n",
       "</div>"
      ],
      "text/plain": [
       "  phenotype       rsid    gene genotype  effect\n",
       "0       BMI  rs9939609     FTO       TT    0.00\n",
       "1       BMI  rs9939609     FTO       AT    1.25\n",
       "2       BMI  rs9939609     FTO       AA    2.50\n",
       "3       BMI  rs6548238  TMEM18       TT    0.00\n",
       "4       BMI  rs6548238  TMEM18       CT    1.19"
      ]
     },
     "execution_count": 90,
     "metadata": {},
     "output_type": "execute_result"
    }
   ],
   "source": [
    "gendata = pd.read_csv('Genetic Data.csv')\n",
    "gendata['effect'] = pd.to_numeric(gendata['effect'])\n",
    "gendata.head()"
   ]
  },
  {
   "cell_type": "code",
   "execution_count": 91,
   "metadata": {},
   "outputs": [],
   "source": [
    "gendata['effect'] = pd.to_numeric(gendata['effect'])"
   ]
  },
  {
   "cell_type": "code",
   "execution_count": 92,
   "metadata": {
    "scrolled": true
   },
   "outputs": [
    {
     "data": {
      "text/html": [
       "<div>\n",
       "<style scoped>\n",
       "    .dataframe tbody tr th:only-of-type {\n",
       "        vertical-align: middle;\n",
       "    }\n",
       "\n",
       "    .dataframe tbody tr th {\n",
       "        vertical-align: top;\n",
       "    }\n",
       "\n",
       "    .dataframe thead th {\n",
       "        text-align: right;\n",
       "    }\n",
       "</style>\n",
       "<table border=\"1\" class=\"dataframe\">\n",
       "  <thead>\n",
       "    <tr style=\"text-align: right;\">\n",
       "      <th></th>\n",
       "      <th>phenotype</th>\n",
       "      <th>rsid</th>\n",
       "      <th>gene</th>\n",
       "      <th>genotype</th>\n",
       "      <th>effect</th>\n",
       "    </tr>\n",
       "  </thead>\n",
       "  <tbody>\n",
       "    <tr>\n",
       "      <th>0</th>\n",
       "      <td>BMI</td>\n",
       "      <td>rs9939609</td>\n",
       "      <td>FTO</td>\n",
       "      <td>TT</td>\n",
       "      <td>0.00</td>\n",
       "    </tr>\n",
       "    <tr>\n",
       "      <th>1</th>\n",
       "      <td>BMI</td>\n",
       "      <td>rs9939609</td>\n",
       "      <td>FTO</td>\n",
       "      <td>AT</td>\n",
       "      <td>1.25</td>\n",
       "    </tr>\n",
       "    <tr>\n",
       "      <th>2</th>\n",
       "      <td>BMI</td>\n",
       "      <td>rs9939609</td>\n",
       "      <td>FTO</td>\n",
       "      <td>AA</td>\n",
       "      <td>2.50</td>\n",
       "    </tr>\n",
       "    <tr>\n",
       "      <th>3</th>\n",
       "      <td>BMI</td>\n",
       "      <td>rs6548238</td>\n",
       "      <td>TMEM18</td>\n",
       "      <td>TT</td>\n",
       "      <td>0.00</td>\n",
       "    </tr>\n",
       "    <tr>\n",
       "      <th>4</th>\n",
       "      <td>BMI</td>\n",
       "      <td>rs6548238</td>\n",
       "      <td>TMEM18</td>\n",
       "      <td>CT</td>\n",
       "      <td>1.19</td>\n",
       "    </tr>\n",
       "    <tr>\n",
       "      <th>...</th>\n",
       "      <td>...</td>\n",
       "      <td>...</td>\n",
       "      <td>...</td>\n",
       "      <td>...</td>\n",
       "      <td>...</td>\n",
       "    </tr>\n",
       "    <tr>\n",
       "      <th>70</th>\n",
       "      <td>T2D</td>\n",
       "      <td>rs7903147</td>\n",
       "      <td>TCF7L3</td>\n",
       "      <td>CT</td>\n",
       "      <td>1.40</td>\n",
       "    </tr>\n",
       "    <tr>\n",
       "      <th>71</th>\n",
       "      <td>T2D</td>\n",
       "      <td>rs7903148</td>\n",
       "      <td>TCF7L4</td>\n",
       "      <td>TT</td>\n",
       "      <td>2.80</td>\n",
       "    </tr>\n",
       "    <tr>\n",
       "      <th>72</th>\n",
       "      <td>T2D</td>\n",
       "      <td>rs35767</td>\n",
       "      <td>IGF1</td>\n",
       "      <td>AA</td>\n",
       "      <td>0.00</td>\n",
       "    </tr>\n",
       "    <tr>\n",
       "      <th>73</th>\n",
       "      <td>T2D</td>\n",
       "      <td>rs35768</td>\n",
       "      <td>IGF2</td>\n",
       "      <td>AG</td>\n",
       "      <td>1.04</td>\n",
       "    </tr>\n",
       "    <tr>\n",
       "      <th>74</th>\n",
       "      <td>T2D</td>\n",
       "      <td>rs35769</td>\n",
       "      <td>IGF3</td>\n",
       "      <td>GG</td>\n",
       "      <td>2.08</td>\n",
       "    </tr>\n",
       "  </tbody>\n",
       "</table>\n",
       "<p>75 rows × 5 columns</p>\n",
       "</div>"
      ],
      "text/plain": [
       "   phenotype       rsid    gene genotype  effect\n",
       "0        BMI  rs9939609     FTO       TT    0.00\n",
       "1        BMI  rs9939609     FTO       AT    1.25\n",
       "2        BMI  rs9939609     FTO       AA    2.50\n",
       "3        BMI  rs6548238  TMEM18       TT    0.00\n",
       "4        BMI  rs6548238  TMEM18       CT    1.19\n",
       "..       ...        ...     ...      ...     ...\n",
       "70       T2D  rs7903147  TCF7L3       CT    1.40\n",
       "71       T2D  rs7903148  TCF7L4       TT    2.80\n",
       "72       T2D    rs35767    IGF1       AA    0.00\n",
       "73       T2D    rs35768    IGF2       AG    1.04\n",
       "74       T2D    rs35769    IGF3       GG    2.08\n",
       "\n",
       "[75 rows x 5 columns]"
      ]
     },
     "execution_count": 92,
     "metadata": {},
     "output_type": "execute_result"
    }
   ],
   "source": [
    "gendata"
   ]
  },
  {
   "cell_type": "markdown",
   "metadata": {},
   "source": [
    "### BMI"
   ]
  },
  {
   "cell_type": "code",
   "execution_count": 72,
   "metadata": {},
   "outputs": [],
   "source": [
    "def bmi(df):\n",
    "    df = df[(df['rsid'] == 'rs9939609') | \n",
    "            (df['rsid'] =='rs6548238') |\n",
    "            (df['rsid'] == 'rs17782313') |\n",
    "            (df['rsid'] == 'rs10938397') | \n",
    "            (df['rsid'] == 'rs7498665') | \n",
    "            (df['rsid'] == 'rs10838738') | \n",
    "            (df['rsid'] == 'rs11084753') | \n",
    "            (df['rsid'] == 'rs2815752')]\n",
    "    return df"
   ]
  },
  {
   "cell_type": "code",
   "execution_count": 73,
   "metadata": {},
   "outputs": [
    {
     "data": {
      "text/plain": [
       "[('rs2815752', 'AG'),\n",
       " ('rs6548238', 'CC'),\n",
       " ('rs10938397', 'AA'),\n",
       " ('rs10838738', 'GG'),\n",
       " ('rs9939609', 'AT'),\n",
       " ('rs17782313', 'TT')]"
      ]
     },
     "execution_count": 73,
     "metadata": {},
     "output_type": "execute_result"
    }
   ],
   "source": [
    "testfile = bmi(df)\n",
    "testfile\n",
    "testlist = []\n",
    "for i in range(0, len(testfile.index)-1):\n",
    "    rsid = testfile.iloc[i,0]\n",
    "    genotype = testfile.iloc[i,3]\n",
    "    i = (rsid, genotype)\n",
    "    testlist.append(i)\n",
    "testlist"
   ]
  },
  {
   "cell_type": "code",
   "execution_count": 93,
   "metadata": {},
   "outputs": [
    {
     "name": "stdout",
     "output_type": "stream",
     "text": [
      "1.05\n",
      "2.38\n",
      "0.0\n",
      "2.06\n",
      "1.25\n",
      "0.0\n"
     ]
    },
    {
     "data": {
      "text/plain": [
       "6.74"
      ]
     },
     "execution_count": 93,
     "metadata": {},
     "output_type": "execute_result"
    }
   ],
   "source": [
    "total = 0\n",
    "for i in testlist:\n",
    "    snp = gendata[(gendata['rsid'] == i[0]) & (gendata['genotype'] == i[1])]\n",
    "    effect = snp.iloc[0,4]\n",
    "    print (effect)\n",
    "    total += effect\n",
    "total"
   ]
  },
  {
   "cell_type": "code",
   "execution_count": 2,
   "metadata": {},
   "outputs": [],
   "source": [
    "def bmistat(filepath):\n",
    "    \"\"\"\n",
    "    1. Takes a text file as the only parameter and returns means and std of the phenotype BMI\n",
    "    2. Search for data labels on the text file and read text file to csv file starting from the\n",
    "    rows of labels present\n",
    "    3. Replace missing data '--' with NaN and drop missing data\n",
    "    4. Looking for all 8 snps (we have in our data bank) in the uploaded file\n",
    "    5. Recreate a list of 8 pairs of snp information: rsid and corresponding genotype\n",
    "    6. Obtain effect values for each snp and sum up to get a polygenic risk score\n",
    "    7. Based on the polygenic risk score, return a mean and std of the bmi phenotype\n",
    "    \n",
    "    \"\"\"\n",
    "    fopen = open(filepath,mode='r+')\n",
    "    fread = fopen.readlines()\n",
    "    x = '# rsid\tchromosome\tposition\tgenotype'\n",
    "    n = 0\n",
    "    for line in fread:\n",
    "        n += 1\n",
    "        if x in line:\n",
    "            break\n",
    "    txt = pd.read_csv (filepath,'\\s+', skiprows=n, names=['rsid','chromosome','position','genotype'])\n",
    "    txt.to_csv('../genome_Thomas_Wood.csv',index=False)\n",
    "    df = pd.read_csv('../genome_Thomas_Wood.csv')\n",
    "    #df = df.replace('--', pd.NaT)  # need to correct this on the data extract file\n",
    "    #df = df.dropna\n",
    "    testfile = df[(df['rsid'] == 'rs9939609') | \n",
    "            (df['rsid'] =='rs6548238') |\n",
    "            (df['rsid'] == 'rs17782313') |\n",
    "            (df['rsid'] == 'rs10938397') | \n",
    "            (df['rsid'] == 'rs7498665') | \n",
    "            (df['rsid'] == 'rs10838738') | \n",
    "            (df['rsid'] == 'rs11084753') |\n",
    "            (df['rsid'] == 'rs2815752')]\n",
    "    testlist = []\n",
    "    for i in range(0, len(testfile.index)-1):\n",
    "        rsid = testfile.iloc[i,0]\n",
    "        genotype = testfile.iloc[i,3]\n",
    "        i = (rsid, genotype)    # tuples of one rsid with genotype\n",
    "        testlist.append(i)      # a list of tuples\n",
    "    gendata = pd.read_csv('Genetic Data.csv')\n",
    "    gendata['effect'] = pd.to_numeric(gendata['effect'])\n",
    "    total = 0\n",
    "    for i in testlist:\n",
    "        snp = gendata[(gendata['rsid'] == i[0]) & (gendata['genotype'] == i[1])]\n",
    "        effect = snp.iloc[0,4]\n",
    "        total += effect\n",
    "    if total < 4:\n",
    "        return (25.4, 3.1)\n",
    "    elif total == 4:\n",
    "        return (25.7, 3.4)\n",
    "    elif total == 5:\n",
    "        return (25.9, 3.8)\n",
    "    elif total == 6:\n",
    "        return (26.2, 3.7)\n",
    "    elif total == 7:\n",
    "        return (26.2, 3.6)\n",
    "    elif total == 8:\n",
    "        return (26.3, 3.7)\n",
    "    elif total == 9:\n",
    "        return (26.5, 3.7)\n",
    "    elif total == 10:\n",
    "        return (26.6, 3.9)\n",
    "    elif total == 11:\n",
    "        return (26.8, 4.2)\n",
    "    elif total == 12:\n",
    "        return (27, 4)\n",
    "    else:\n",
    "        return (26.8, 3.8)"
   ]
  },
  {
   "cell_type": "markdown",
   "metadata": {},
   "source": [
    "### bmistat method\n",
    "#### Takes a text file as the only parameter and returns means and std of the phenotype BMI\n",
    "\n",
    "1. search for data labels on the text file and read text file to csv file starting from the rows of labels present\n",
    "\n",
    "\n",
    "2. replace missing data '--' with NaN and drop missing data\n",
    "\n",
    "\n",
    "3. looking for all 8 snps (we have in our data bank) in the uploaded file\n",
    "\n",
    "\n",
    "4. recreate a list of 8 pairs of snp information: rsid and corresponding genotype\n",
    "\n",
    "\n",
    "5. obtain effect values for each snp and sum up to get a polygenic risk score\n",
    "\n",
    "\n",
    "6. based on the polygenic risk score, return a mean and std of the bmi phenotype\n"
   ]
  },
  {
   "cell_type": "code",
   "execution_count": 5,
   "metadata": {},
   "outputs": [
    {
     "data": {
      "text/plain": [
       "(26.8, 3.8)"
      ]
     },
     "execution_count": 5,
     "metadata": {},
     "output_type": "execute_result"
    }
   ],
   "source": [
    "bmistat('../genome_Thomas_Wood.txt')"
   ]
  },
  {
   "cell_type": "markdown",
   "metadata": {},
   "source": [
    "> write csv file"
   ]
  },
  {
   "cell_type": "code",
   "execution_count": 45,
   "metadata": {},
   "outputs": [],
   "source": [
    "import csv\n",
    "\n",
    "with open('newfile.csv', 'w', newline='') as csvfile:\n",
    "    fieldnames = ['rsid', 'chromosome', 'position', 'genotype']\n",
    "    writer = csv.DictWriter(csvfile, fieldnames=fieldnames)\n",
    "\n",
    "    writer.writeheader()\n",
    "    writer.writerow({'rsid': 'rs12564807','chromosome': '1','position': '734462','genotype': 'AA'})"
   ]
  },
  {
   "cell_type": "code",
   "execution_count": 47,
   "metadata": {},
   "outputs": [
    {
     "data": {
      "text/html": [
       "<div>\n",
       "<style scoped>\n",
       "    .dataframe tbody tr th:only-of-type {\n",
       "        vertical-align: middle;\n",
       "    }\n",
       "\n",
       "    .dataframe tbody tr th {\n",
       "        vertical-align: top;\n",
       "    }\n",
       "\n",
       "    .dataframe thead th {\n",
       "        text-align: right;\n",
       "    }\n",
       "</style>\n",
       "<table border=\"1\" class=\"dataframe\">\n",
       "  <thead>\n",
       "    <tr style=\"text-align: right;\">\n",
       "      <th></th>\n",
       "      <th>rsid</th>\n",
       "      <th>chromosome</th>\n",
       "      <th>position</th>\n",
       "      <th>genotype</th>\n",
       "    </tr>\n",
       "  </thead>\n",
       "  <tbody>\n",
       "    <tr>\n",
       "      <th>0</th>\n",
       "      <td>rs12564807</td>\n",
       "      <td>1</td>\n",
       "      <td>734462</td>\n",
       "      <td>AA</td>\n",
       "    </tr>\n",
       "  </tbody>\n",
       "</table>\n",
       "</div>"
      ],
      "text/plain": [
       "         rsid  chromosome  position genotype\n",
       "0  rs12564807           1    734462       AA"
      ]
     },
     "execution_count": 47,
     "metadata": {},
     "output_type": "execute_result"
    }
   ],
   "source": [
    "df = pd.read_csv('newfile.csv')\n",
    "df"
   ]
  },
  {
   "cell_type": "code",
   "execution_count": null,
   "metadata": {},
   "outputs": [],
   "source": []
  }
 ],
 "metadata": {
  "kernelspec": {
   "display_name": "Python 3",
   "language": "python",
   "name": "python3"
  },
  "language_info": {
   "codemirror_mode": {
    "name": "ipython",
    "version": 3
   },
   "file_extension": ".py",
   "mimetype": "text/x-python",
   "name": "python",
   "nbconvert_exporter": "python",
   "pygments_lexer": "ipython3",
   "version": "3.7.4"
  }
 },
 "nbformat": 4,
 "nbformat_minor": 2
}
