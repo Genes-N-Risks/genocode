{
 "cells": [
  {
   "cell_type": "code",
   "execution_count": 1,
   "metadata": {},
   "outputs": [
    {
     "ename": "ImportError",
     "evalue": "cannot import name 'NormalDist' from 'statistics' (/Users/stlp/opt/anaconda3/lib/python3.7/statistics.py)",
     "output_type": "error",
     "traceback": [
      "\u001b[0;31m---------------------------------------------------------------------------\u001b[0m",
      "\u001b[0;31mImportError\u001b[0m                               Traceback (most recent call last)",
      "\u001b[0;32m<ipython-input-1-acaa565ba584>\u001b[0m in \u001b[0;36m<module>\u001b[0;34m\u001b[0m\n\u001b[1;32m      2\u001b[0m \u001b[0;32mimport\u001b[0m \u001b[0msys\u001b[0m\u001b[0;34m\u001b[0m\u001b[0;34m\u001b[0m\u001b[0m\n\u001b[1;32m      3\u001b[0m \u001b[0msys\u001b[0m\u001b[0;34m.\u001b[0m\u001b[0mpath\u001b[0m\u001b[0;34m.\u001b[0m\u001b[0mappend\u001b[0m\u001b[0;34m(\u001b[0m\u001b[0;34m'..'\u001b[0m\u001b[0;34m)\u001b[0m\u001b[0;34m\u001b[0m\u001b[0;34m\u001b[0m\u001b[0m\n\u001b[0;32m----> 4\u001b[0;31m \u001b[0;32mfrom\u001b[0m \u001b[0mgenocode\u001b[0m \u001b[0;32mimport\u001b[0m \u001b[0mvectorized_datavis\u001b[0m\u001b[0;34m\u001b[0m\u001b[0;34m\u001b[0m\u001b[0m\n\u001b[0m",
      "\u001b[0;32m~/Desktop/GenesNRisks/genocode/genocode/vectorized_datavis.py\u001b[0m in \u001b[0;36m<module>\u001b[0;34m\u001b[0m\n\u001b[1;32m      7\u001b[0m \u001b[0;34m\u001b[0m\u001b[0m\n\u001b[1;32m      8\u001b[0m \u001b[0;32mimport\u001b[0m \u001b[0mmath\u001b[0m\u001b[0;34m\u001b[0m\u001b[0;34m\u001b[0m\u001b[0m\n\u001b[0;32m----> 9\u001b[0;31m \u001b[0;32mfrom\u001b[0m \u001b[0mstatistics\u001b[0m \u001b[0;32mimport\u001b[0m \u001b[0mNormalDist\u001b[0m\u001b[0;34m\u001b[0m\u001b[0;34m\u001b[0m\u001b[0m\n\u001b[0m\u001b[1;32m     10\u001b[0m \u001b[0;32mimport\u001b[0m \u001b[0mmatplotlib\u001b[0m\u001b[0;34m\u001b[0m\u001b[0;34m\u001b[0m\u001b[0m\n\u001b[1;32m     11\u001b[0m \u001b[0;32mimport\u001b[0m \u001b[0mmatplotlib\u001b[0m\u001b[0;34m.\u001b[0m\u001b[0mpyplot\u001b[0m \u001b[0;32mas\u001b[0m \u001b[0mplt\u001b[0m\u001b[0;34m\u001b[0m\u001b[0;34m\u001b[0m\u001b[0m\n",
      "\u001b[0;31mImportError\u001b[0m: cannot import name 'NormalDist' from 'statistics' (/Users/stlp/opt/anaconda3/lib/python3.7/statistics.py)"
     ]
    }
   ],
   "source": [
    "import numpy as np\n",
    "import sys\n",
    "sys.path.append('..')\n",
    "from genocode import vectorized_datavis"
   ]
  },
  {
   "cell_type": "code",
   "execution_count": 2,
   "metadata": {},
   "outputs": [],
   "source": [
    "SERROR = 1.5\n",
    "LOWERCI = 0.27\n",
    "UPPERCI = 0.39\n",
    "CIVAL = 95\n",
    "SIZE = 1000\n",
    "BINS = np.linspace(10, 40, num=30)"
   ]
  },
  {
   "cell_type": "code",
   "execution_count": 3,
   "metadata": {},
   "outputs": [
    {
     "ename": "NameError",
     "evalue": "name 'vectorized_datavis' is not defined",
     "output_type": "error",
     "traceback": [
      "\u001b[0;31m---------------------------------------------------------------------------\u001b[0m",
      "\u001b[0;31mNameError\u001b[0m                                 Traceback (most recent call last)",
      "\u001b[0;32m<ipython-input-3-5769aa7d81bb>\u001b[0m in \u001b[0;36m<module>\u001b[0;34m\u001b[0m\n\u001b[1;32m      1\u001b[0m \u001b[0;31m#Standard deviation from standard error.\u001b[0m\u001b[0;34m\u001b[0m\u001b[0;34m\u001b[0m\u001b[0;34m\u001b[0m\u001b[0m\n\u001b[0;32m----> 2\u001b[0;31m \u001b[0mSDEV\u001b[0m \u001b[0;34m=\u001b[0m \u001b[0mvectorized_datavis\u001b[0m\u001b[0;34m.\u001b[0m\u001b[0mse_to_sd\u001b[0m\u001b[0;34m(\u001b[0m\u001b[0mserror\u001b[0m\u001b[0;34m=\u001b[0m\u001b[0mSERROR\u001b[0m\u001b[0;34m,\u001b[0m \u001b[0msize\u001b[0m\u001b[0;34m=\u001b[0m\u001b[0mSIZE\u001b[0m\u001b[0;34m)\u001b[0m\u001b[0;34m\u001b[0m\u001b[0;34m\u001b[0m\u001b[0m\n\u001b[0m\u001b[1;32m      3\u001b[0m print('For the standard error of '+str(SERROR)+' and size of '+str(SIZE)+', \\\n\u001b[1;32m      4\u001b[0m     the standard deviation is'+str(SDEV))\n",
      "\u001b[0;31mNameError\u001b[0m: name 'vectorized_datavis' is not defined"
     ]
    }
   ],
   "source": [
    "#Standard deviation from standard error.\n",
    "SDEV = vectorized_datavis.se_to_sd(serror=SERROR, size=SIZE)\n",
    "print('For the standard error of '+str(SERROR)+' and size of '+str(SIZE)+', \\\n",
    "    the standard deviation is'+str(SDEV))"
   ]
  },
  {
   "cell_type": "code",
   "execution_count": 4,
   "metadata": {},
   "outputs": [
    {
     "ename": "NameError",
     "evalue": "name 'vectorized_datavis' is not defined",
     "output_type": "error",
     "traceback": [
      "\u001b[0;31m---------------------------------------------------------------------------\u001b[0m",
      "\u001b[0;31mNameError\u001b[0m                                 Traceback (most recent call last)",
      "\u001b[0;32m<ipython-input-4-464e3d0f2e34>\u001b[0m in \u001b[0;36m<module>\u001b[0;34m\u001b[0m\n\u001b[1;32m      1\u001b[0m \u001b[0;31m#Standard deviation from confidence interval.\u001b[0m\u001b[0;34m\u001b[0m\u001b[0;34m\u001b[0m\u001b[0;34m\u001b[0m\u001b[0m\n\u001b[0;32m----> 2\u001b[0;31m SDEV = vectorized_datavis.ci_to_sd(lowerci=LOWERCI, upperci=UPPERCI, cival=CIVAL, \\\n\u001b[0m\u001b[1;32m      3\u001b[0m                         size=SIZE)\n\u001b[1;32m      4\u001b[0m print('For the confidence interval of '+str(LOWERCI)+'-'+str(UPPERCI)+' and \\\n\u001b[1;32m      5\u001b[0m     size of '+str(SIZE)+', the standard deviation is '+str(SDEV))\n",
      "\u001b[0;31mNameError\u001b[0m: name 'vectorized_datavis' is not defined"
     ]
    }
   ],
   "source": [
    "#Standard deviation from confidence interval.\n",
    "SDEV = vectorized_datavis.ci_to_sd(lowerci=LOWERCI, upperci=UPPERCI, cival=CIVAL, \\\n",
    "                        size=SIZE)\n",
    "print('For the confidence interval of '+str(LOWERCI)+'-'+str(UPPERCI)+' and \\\n",
    "    size of '+str(SIZE)+', the standard deviation is '+str(SDEV))"
   ]
  },
  {
   "cell_type": "markdown",
   "metadata": {},
   "source": [
    "# For only two datasets."
   ]
  },
  {
   "cell_type": "code",
   "execution_count": 13,
   "metadata": {},
   "outputs": [],
   "source": [
    "MEAN = np.array([24.12, 24.43])#, 24.82])\n",
    "SDEV = np.array([3.87, 3.94])#, 3.95])"
   ]
  },
  {
   "cell_type": "code",
   "execution_count": 14,
   "metadata": {},
   "outputs": [
    {
     "ename": "NameError",
     "evalue": "name 'vectorized_datavis' is not defined",
     "output_type": "error",
     "traceback": [
      "\u001b[0;31m---------------------------------------------------------------------------\u001b[0m",
      "\u001b[0;31mNameError\u001b[0m                                 Traceback (most recent call last)",
      "\u001b[0;32m<ipython-input-14-fd7a5b7ef0ba>\u001b[0m in \u001b[0;36m<module>\u001b[0;34m\u001b[0m\n\u001b[1;32m      1\u001b[0m \u001b[0;31m#The data generated from means and standard deviations for three datasets.\u001b[0m\u001b[0;34m\u001b[0m\u001b[0;34m\u001b[0m\u001b[0;34m\u001b[0m\u001b[0m\n\u001b[0;32m----> 2\u001b[0;31m \u001b[0mDATAGENERATED\u001b[0m \u001b[0;34m=\u001b[0m \u001b[0mvectorized_datavis\u001b[0m\u001b[0;34m.\u001b[0m\u001b[0mcompounddata\u001b[0m\u001b[0;34m(\u001b[0m\u001b[0mmean\u001b[0m\u001b[0;34m=\u001b[0m\u001b[0mMEAN\u001b[0m\u001b[0;34m,\u001b[0m \u001b[0msdev\u001b[0m\u001b[0;34m=\u001b[0m\u001b[0mSDEV\u001b[0m\u001b[0;34m,\u001b[0m \u001b[0msize\u001b[0m\u001b[0;34m=\u001b[0m\u001b[0mSIZE\u001b[0m\u001b[0;34m)\u001b[0m\u001b[0;34m\u001b[0m\u001b[0;34m\u001b[0m\u001b[0m\n\u001b[0m",
      "\u001b[0;31mNameError\u001b[0m: name 'vectorized_datavis' is not defined"
     ]
    }
   ],
   "source": [
    "#The data generated from means and standard deviations for two datasets.\n",
    "DATAGENERATED = vectorized_datavis.compounddata(mean=MEAN, sdev=SDEV, size=SIZE)"
   ]
  },
  {
   "cell_type": "code",
   "execution_count": 15,
   "metadata": {},
   "outputs": [
    {
     "ename": "NameError",
     "evalue": "name 'vectorized_datavis' is not defined",
     "output_type": "error",
     "traceback": [
      "\u001b[0;31m---------------------------------------------------------------------------\u001b[0m",
      "\u001b[0;31mNameError\u001b[0m                                 Traceback (most recent call last)",
      "\u001b[0;32m<ipython-input-15-604b05f9f2dd>\u001b[0m in \u001b[0;36m<module>\u001b[0;34m\u001b[0m\n\u001b[1;32m      1\u001b[0m \u001b[0;31m#Binning of data\u001b[0m\u001b[0;34m\u001b[0m\u001b[0;34m\u001b[0m\u001b[0;34m\u001b[0m\u001b[0m\n\u001b[0;32m----> 2\u001b[0;31m \u001b[0mYBIN\u001b[0m \u001b[0;34m=\u001b[0m \u001b[0mvectorized_datavis\u001b[0m\u001b[0;34m.\u001b[0m\u001b[0mdatabinning\u001b[0m\u001b[0;34m(\u001b[0m\u001b[0mdatagenerated\u001b[0m\u001b[0;34m=\u001b[0m\u001b[0mDATAGENERATED\u001b[0m\u001b[0;34m,\u001b[0m \u001b[0mbins_list\u001b[0m\u001b[0;34m=\u001b[0m\u001b[0mBINS\u001b[0m\u001b[0;34m)\u001b[0m\u001b[0;34m\u001b[0m\u001b[0;34m\u001b[0m\u001b[0m\n\u001b[0m\u001b[1;32m      3\u001b[0m \u001b[0mprint\u001b[0m\u001b[0;34m(\u001b[0m\u001b[0;34m'The bins have been created.'\u001b[0m\u001b[0;34m)\u001b[0m\u001b[0;34m\u001b[0m\u001b[0;34m\u001b[0m\u001b[0m\n",
      "\u001b[0;31mNameError\u001b[0m: name 'vectorized_datavis' is not defined"
     ]
    }
   ],
   "source": [
    "#Binning of data\n",
    "YBIN = vectorized_datavis.databinning(datagenerated=DATAGENERATED, bins_list=BINS)\n",
    "print('The bins have been created.')"
   ]
  },
  {
   "cell_type": "code",
   "execution_count": 16,
   "metadata": {},
   "outputs": [
    {
     "ename": "NameError",
     "evalue": "name 'vectorized_datavis' is not defined",
     "output_type": "error",
     "traceback": [
      "\u001b[0;31m---------------------------------------------------------------------------\u001b[0m",
      "\u001b[0;31mNameError\u001b[0m                                 Traceback (most recent call last)",
      "\u001b[0;32m<ipython-input-16-292f7cec384f>\u001b[0m in \u001b[0;36m<module>\u001b[0;34m\u001b[0m\n\u001b[1;32m      1\u001b[0m \u001b[0;31m#Histogram for the three datasets\u001b[0m\u001b[0;34m\u001b[0m\u001b[0;34m\u001b[0m\u001b[0;34m\u001b[0m\u001b[0m\n\u001b[0;32m----> 2\u001b[0;31m \u001b[0mvectorized_datavis\u001b[0m\u001b[0;34m.\u001b[0m\u001b[0mhistplotting\u001b[0m\u001b[0;34m(\u001b[0m\u001b[0mdatagenerated\u001b[0m\u001b[0;34m=\u001b[0m\u001b[0mDATAGENERATED\u001b[0m\u001b[0;34m,\u001b[0m \u001b[0mbins_list\u001b[0m\u001b[0;34m=\u001b[0m\u001b[0mBINS\u001b[0m\u001b[0;34m)\u001b[0m\u001b[0;34m\u001b[0m\u001b[0;34m\u001b[0m\u001b[0m\n\u001b[0m",
      "\u001b[0;31mNameError\u001b[0m: name 'vectorized_datavis' is not defined"
     ]
    }
   ],
   "source": [
    "#Histogram for the two datasets\n",
    "vectorized_datavis.histplotting(datagenerated=DATAGENERATED, bins_list=BINS)"
   ]
  },
  {
   "cell_type": "code",
   "execution_count": 17,
   "metadata": {},
   "outputs": [
    {
     "ename": "NameError",
     "evalue": "name 'vectorized_datavis' is not defined",
     "output_type": "error",
     "traceback": [
      "\u001b[0;31m---------------------------------------------------------------------------\u001b[0m",
      "\u001b[0;31mNameError\u001b[0m                                 Traceback (most recent call last)",
      "\u001b[0;32m<ipython-input-17-d37c7f50d5be>\u001b[0m in \u001b[0;36m<module>\u001b[0;34m\u001b[0m\n\u001b[1;32m      1\u001b[0m \u001b[0;31m#Probability distribution functionf for the three datasets.\u001b[0m\u001b[0;34m\u001b[0m\u001b[0;34m\u001b[0m\u001b[0;34m\u001b[0m\u001b[0m\n\u001b[0;32m----> 2\u001b[0;31m \u001b[0mvectorized_datavis\u001b[0m\u001b[0;34m.\u001b[0m\u001b[0mpdfplotting\u001b[0m\u001b[0;34m(\u001b[0m\u001b[0mmean\u001b[0m\u001b[0;34m=\u001b[0m\u001b[0mMEAN\u001b[0m\u001b[0;34m,\u001b[0m \u001b[0msdev\u001b[0m\u001b[0;34m=\u001b[0m\u001b[0mSDEV\u001b[0m\u001b[0;34m,\u001b[0m \u001b[0mbins_list\u001b[0m\u001b[0;34m=\u001b[0m\u001b[0mBINS\u001b[0m\u001b[0;34m)\u001b[0m\u001b[0;34m\u001b[0m\u001b[0;34m\u001b[0m\u001b[0m\n\u001b[0m",
      "\u001b[0;31mNameError\u001b[0m: name 'vectorized_datavis' is not defined"
     ]
    }
   ],
   "source": [
    "#Probability distribution functionf for the two datasets.\n",
    "vectorized_datavis.pdfplotting(mean=MEAN, sdev=SDEV, bins_list=BINS)"
   ]
  },
  {
   "cell_type": "code",
   "execution_count": 18,
   "metadata": {},
   "outputs": [
    {
     "ename": "NameError",
     "evalue": "name 'vectorized_datavis' is not defined",
     "output_type": "error",
     "traceback": [
      "\u001b[0;31m---------------------------------------------------------------------------\u001b[0m",
      "\u001b[0;31mNameError\u001b[0m                                 Traceback (most recent call last)",
      "\u001b[0;32m<ipython-input-18-52b82aff3fc9>\u001b[0m in \u001b[0;36m<module>\u001b[0;34m\u001b[0m\n\u001b[1;32m      1\u001b[0m \u001b[0;31m#Violin plots for the three dataset.\u001b[0m\u001b[0;34m\u001b[0m\u001b[0;34m\u001b[0m\u001b[0;34m\u001b[0m\u001b[0m\n\u001b[0;32m----> 2\u001b[0;31m \u001b[0mvectorized_datavis\u001b[0m\u001b[0;34m.\u001b[0m\u001b[0mviolinplotting\u001b[0m\u001b[0;34m(\u001b[0m\u001b[0mdatagenerated\u001b[0m\u001b[0;34m=\u001b[0m\u001b[0mDATAGENERATED\u001b[0m\u001b[0;34m)\u001b[0m\u001b[0;34m\u001b[0m\u001b[0;34m\u001b[0m\u001b[0m\n\u001b[0m",
      "\u001b[0;31mNameError\u001b[0m: name 'vectorized_datavis' is not defined"
     ]
    }
   ],
   "source": [
    "#Violin plots for the two dataset.\n",
    "vectorized_datavis.violinplotting(datagenerated=DATAGENERATED)"
   ]
  },
  {
   "cell_type": "code",
   "execution_count": 20,
   "metadata": {},
   "outputs": [
    {
     "ename": "NameError",
     "evalue": "name 'vectorized_datavis' is not defined",
     "output_type": "error",
     "traceback": [
      "\u001b[0;31m---------------------------------------------------------------------------\u001b[0m",
      "\u001b[0;31mNameError\u001b[0m                                 Traceback (most recent call last)",
      "\u001b[0;32m<ipython-input-20-41bc02dbdd47>\u001b[0m in \u001b[0;36m<module>\u001b[0;34m\u001b[0m\n\u001b[1;32m      1\u001b[0m \u001b[0;31m#Percentage overlap\u001b[0m\u001b[0;34m\u001b[0m\u001b[0;34m\u001b[0m\u001b[0;34m\u001b[0m\u001b[0m\n\u001b[0;32m----> 2\u001b[0;31m \u001b[0mOVERLAP\u001b[0m \u001b[0;34m=\u001b[0m \u001b[0mvectorized_datavis\u001b[0m\u001b[0;34m.\u001b[0m\u001b[0mpercent_overlap\u001b[0m\u001b[0;34m(\u001b[0m\u001b[0mmean\u001b[0m\u001b[0;34m=\u001b[0m\u001b[0mMEAN\u001b[0m\u001b[0;34m,\u001b[0m \u001b[0msdev\u001b[0m\u001b[0;34m=\u001b[0m\u001b[0mSDEV\u001b[0m\u001b[0;34m)\u001b[0m\u001b[0;34m\u001b[0m\u001b[0;34m\u001b[0m\u001b[0m\n\u001b[0m\u001b[1;32m      3\u001b[0m \u001b[0mprint\u001b[0m\u001b[0;34m(\u001b[0m\u001b[0;34m'The percentage overlap for the data1 and data1 is '\u001b[0m\u001b[0;34m+\u001b[0m\u001b[0mstr\u001b[0m\u001b[0;34m(\u001b[0m\u001b[0mOVERLAP\u001b[0m\u001b[0;34m[\u001b[0m\u001b[0;36m1\u001b[0m\u001b[0;34m]\u001b[0m\u001b[0;34m)\u001b[0m\u001b[0;34m)\u001b[0m\u001b[0;34m\u001b[0m\u001b[0;34m\u001b[0m\u001b[0m\n\u001b[1;32m      4\u001b[0m \u001b[0mprint\u001b[0m\u001b[0;34m(\u001b[0m\u001b[0;34m'The percentage overlap for the data1 and data2 is '\u001b[0m\u001b[0;34m+\u001b[0m\u001b[0mstr\u001b[0m\u001b[0;34m(\u001b[0m\u001b[0mOVERLAP\u001b[0m\u001b[0;34m[\u001b[0m\u001b[0;36m2\u001b[0m\u001b[0;34m]\u001b[0m\u001b[0;34m)\u001b[0m\u001b[0;34m)\u001b[0m\u001b[0;34m\u001b[0m\u001b[0;34m\u001b[0m\u001b[0m\n\u001b[1;32m      5\u001b[0m \u001b[0mprint\u001b[0m\u001b[0;34m(\u001b[0m\u001b[0;34m'The percentage overlap for the data1 and data3 is '\u001b[0m\u001b[0;34m+\u001b[0m\u001b[0mstr\u001b[0m\u001b[0;34m(\u001b[0m\u001b[0mOVERLAP\u001b[0m\u001b[0;34m[\u001b[0m\u001b[0;36m3\u001b[0m\u001b[0;34m]\u001b[0m\u001b[0;34m)\u001b[0m\u001b[0;34m)\u001b[0m\u001b[0;34m\u001b[0m\u001b[0;34m\u001b[0m\u001b[0m\n",
      "\u001b[0;31mNameError\u001b[0m: name 'vectorized_datavis' is not defined"
     ]
    }
   ],
   "source": [
    "#Percentage overlap\n",
    "OVERLAP = vectorized_datavis.percent_overlap(mean=MEAN, sdev=SDEV)\n",
    "print('The percentage overlap for the data1 and data1 is '+str(OVERLAP[1]))\n",
    "print('The percentage overlap for the data1 and data2 is '+str(OVERLAP[2]))\n",
    "print('The percentage overlap for the data1 and data3 is '+str(OVERLAP[3]))"
   ]
  },
  {
   "cell_type": "markdown",
   "metadata": {},
   "source": [
    "# For five plots."
   ]
  },
  {
   "cell_type": "code",
   "execution_count": 21,
   "metadata": {},
   "outputs": [],
   "source": [
    "MEAN = np.array([24.12, 24.43, 24.82, 25, 24])\n",
    "SDEV = np.array([3.87, 3.94, 3.95, 3.5, 4])"
   ]
  },
  {
   "cell_type": "code",
   "execution_count": 22,
   "metadata": {},
   "outputs": [
    {
     "ename": "NameError",
     "evalue": "name 'vectorized_datavis' is not defined",
     "output_type": "error",
     "traceback": [
      "\u001b[0;31m---------------------------------------------------------------------------\u001b[0m",
      "\u001b[0;31mNameError\u001b[0m                                 Traceback (most recent call last)",
      "\u001b[0;32m<ipython-input-22-fd7a5b7ef0ba>\u001b[0m in \u001b[0;36m<module>\u001b[0;34m\u001b[0m\n\u001b[1;32m      1\u001b[0m \u001b[0;31m#The data generated from means and standard deviations for three datasets.\u001b[0m\u001b[0;34m\u001b[0m\u001b[0;34m\u001b[0m\u001b[0;34m\u001b[0m\u001b[0m\n\u001b[0;32m----> 2\u001b[0;31m \u001b[0mDATAGENERATED\u001b[0m \u001b[0;34m=\u001b[0m \u001b[0mvectorized_datavis\u001b[0m\u001b[0;34m.\u001b[0m\u001b[0mcompounddata\u001b[0m\u001b[0;34m(\u001b[0m\u001b[0mmean\u001b[0m\u001b[0;34m=\u001b[0m\u001b[0mMEAN\u001b[0m\u001b[0;34m,\u001b[0m \u001b[0msdev\u001b[0m\u001b[0;34m=\u001b[0m\u001b[0mSDEV\u001b[0m\u001b[0;34m,\u001b[0m \u001b[0msize\u001b[0m\u001b[0;34m=\u001b[0m\u001b[0mSIZE\u001b[0m\u001b[0;34m)\u001b[0m\u001b[0;34m\u001b[0m\u001b[0;34m\u001b[0m\u001b[0m\n\u001b[0m",
      "\u001b[0;31mNameError\u001b[0m: name 'vectorized_datavis' is not defined"
     ]
    }
   ],
   "source": [
    "#The data generated from means and standard deviations for five datasets.\n",
    "DATAGENERATED = vectorized_datavis.compounddata(mean=MEAN, sdev=SDEV, size=SIZE)"
   ]
  },
  {
   "cell_type": "code",
   "execution_count": 23,
   "metadata": {},
   "outputs": [
    {
     "ename": "NameError",
     "evalue": "name 'vectorized_datavis' is not defined",
     "output_type": "error",
     "traceback": [
      "\u001b[0;31m---------------------------------------------------------------------------\u001b[0m",
      "\u001b[0;31mNameError\u001b[0m                                 Traceback (most recent call last)",
      "\u001b[0;32m<ipython-input-23-604b05f9f2dd>\u001b[0m in \u001b[0;36m<module>\u001b[0;34m\u001b[0m\n\u001b[1;32m      1\u001b[0m \u001b[0;31m#Binning of data\u001b[0m\u001b[0;34m\u001b[0m\u001b[0;34m\u001b[0m\u001b[0;34m\u001b[0m\u001b[0m\n\u001b[0;32m----> 2\u001b[0;31m \u001b[0mYBIN\u001b[0m \u001b[0;34m=\u001b[0m \u001b[0mvectorized_datavis\u001b[0m\u001b[0;34m.\u001b[0m\u001b[0mdatabinning\u001b[0m\u001b[0;34m(\u001b[0m\u001b[0mdatagenerated\u001b[0m\u001b[0;34m=\u001b[0m\u001b[0mDATAGENERATED\u001b[0m\u001b[0;34m,\u001b[0m \u001b[0mbins_list\u001b[0m\u001b[0;34m=\u001b[0m\u001b[0mBINS\u001b[0m\u001b[0;34m)\u001b[0m\u001b[0;34m\u001b[0m\u001b[0;34m\u001b[0m\u001b[0m\n\u001b[0m\u001b[1;32m      3\u001b[0m \u001b[0mprint\u001b[0m\u001b[0;34m(\u001b[0m\u001b[0;34m'The bins have been created.'\u001b[0m\u001b[0;34m)\u001b[0m\u001b[0;34m\u001b[0m\u001b[0;34m\u001b[0m\u001b[0m\n",
      "\u001b[0;31mNameError\u001b[0m: name 'vectorized_datavis' is not defined"
     ]
    }
   ],
   "source": [
    "#Binning of data\n",
    "YBIN = vectorized_datavis.databinning(datagenerated=DATAGENERATED, bins_list=BINS)\n",
    "print('The bins have been created.')"
   ]
  },
  {
   "cell_type": "code",
   "execution_count": 24,
   "metadata": {},
   "outputs": [
    {
     "ename": "NameError",
     "evalue": "name 'vectorized_datavis' is not defined",
     "output_type": "error",
     "traceback": [
      "\u001b[0;31m---------------------------------------------------------------------------\u001b[0m",
      "\u001b[0;31mNameError\u001b[0m                                 Traceback (most recent call last)",
      "\u001b[0;32m<ipython-input-24-292f7cec384f>\u001b[0m in \u001b[0;36m<module>\u001b[0;34m\u001b[0m\n\u001b[1;32m      1\u001b[0m \u001b[0;31m#Histogram for the three datasets\u001b[0m\u001b[0;34m\u001b[0m\u001b[0;34m\u001b[0m\u001b[0;34m\u001b[0m\u001b[0m\n\u001b[0;32m----> 2\u001b[0;31m \u001b[0mvectorized_datavis\u001b[0m\u001b[0;34m.\u001b[0m\u001b[0mhistplotting\u001b[0m\u001b[0;34m(\u001b[0m\u001b[0mdatagenerated\u001b[0m\u001b[0;34m=\u001b[0m\u001b[0mDATAGENERATED\u001b[0m\u001b[0;34m,\u001b[0m \u001b[0mbins_list\u001b[0m\u001b[0;34m=\u001b[0m\u001b[0mBINS\u001b[0m\u001b[0;34m)\u001b[0m\u001b[0;34m\u001b[0m\u001b[0;34m\u001b[0m\u001b[0m\n\u001b[0m",
      "\u001b[0;31mNameError\u001b[0m: name 'vectorized_datavis' is not defined"
     ]
    }
   ],
   "source": [
    "#Histogram for the five datasets\n",
    "vectorized_datavis.histplotting(datagenerated=DATAGENERATED, bins_list=BINS)"
   ]
  },
  {
   "cell_type": "code",
   "execution_count": 25,
   "metadata": {},
   "outputs": [
    {
     "ename": "NameError",
     "evalue": "name 'vectorized_datavis' is not defined",
     "output_type": "error",
     "traceback": [
      "\u001b[0;31m---------------------------------------------------------------------------\u001b[0m",
      "\u001b[0;31mNameError\u001b[0m                                 Traceback (most recent call last)",
      "\u001b[0;32m<ipython-input-25-d37c7f50d5be>\u001b[0m in \u001b[0;36m<module>\u001b[0;34m\u001b[0m\n\u001b[1;32m      1\u001b[0m \u001b[0;31m#Probability distribution functionf for the three datasets.\u001b[0m\u001b[0;34m\u001b[0m\u001b[0;34m\u001b[0m\u001b[0;34m\u001b[0m\u001b[0m\n\u001b[0;32m----> 2\u001b[0;31m \u001b[0mvectorized_datavis\u001b[0m\u001b[0;34m.\u001b[0m\u001b[0mpdfplotting\u001b[0m\u001b[0;34m(\u001b[0m\u001b[0mmean\u001b[0m\u001b[0;34m=\u001b[0m\u001b[0mMEAN\u001b[0m\u001b[0;34m,\u001b[0m \u001b[0msdev\u001b[0m\u001b[0;34m=\u001b[0m\u001b[0mSDEV\u001b[0m\u001b[0;34m,\u001b[0m \u001b[0mbins_list\u001b[0m\u001b[0;34m=\u001b[0m\u001b[0mBINS\u001b[0m\u001b[0;34m)\u001b[0m\u001b[0;34m\u001b[0m\u001b[0;34m\u001b[0m\u001b[0m\n\u001b[0m",
      "\u001b[0;31mNameError\u001b[0m: name 'vectorized_datavis' is not defined"
     ]
    }
   ],
   "source": [
    "#Probability distribution functionf for the five datasets.\n",
    "vectorized_datavis.pdfplotting(mean=MEAN, sdev=SDEV, bins_list=BINS)"
   ]
  },
  {
   "cell_type": "code",
   "execution_count": 26,
   "metadata": {},
   "outputs": [
    {
     "ename": "NameError",
     "evalue": "name 'vectorized_datavis' is not defined",
     "output_type": "error",
     "traceback": [
      "\u001b[0;31m---------------------------------------------------------------------------\u001b[0m",
      "\u001b[0;31mNameError\u001b[0m                                 Traceback (most recent call last)",
      "\u001b[0;32m<ipython-input-26-52b82aff3fc9>\u001b[0m in \u001b[0;36m<module>\u001b[0;34m\u001b[0m\n\u001b[1;32m      1\u001b[0m \u001b[0;31m#Violin plots for the three dataset.\u001b[0m\u001b[0;34m\u001b[0m\u001b[0;34m\u001b[0m\u001b[0;34m\u001b[0m\u001b[0m\n\u001b[0;32m----> 2\u001b[0;31m \u001b[0mvectorized_datavis\u001b[0m\u001b[0;34m.\u001b[0m\u001b[0mviolinplotting\u001b[0m\u001b[0;34m(\u001b[0m\u001b[0mdatagenerated\u001b[0m\u001b[0;34m=\u001b[0m\u001b[0mDATAGENERATED\u001b[0m\u001b[0;34m)\u001b[0m\u001b[0;34m\u001b[0m\u001b[0;34m\u001b[0m\u001b[0m\n\u001b[0m",
      "\u001b[0;31mNameError\u001b[0m: name 'vectorized_datavis' is not defined"
     ]
    }
   ],
   "source": [
    "#Violin plots for the five dataset.\n",
    "vectorized_datavis.violinplotting(datagenerated=DATAGENERATED)"
   ]
  },
  {
   "cell_type": "code",
   "execution_count": 28,
   "metadata": {},
   "outputs": [
    {
     "ename": "NameError",
     "evalue": "name 'vectorized_datavis' is not defined",
     "output_type": "error",
     "traceback": [
      "\u001b[0;31m---------------------------------------------------------------------------\u001b[0m",
      "\u001b[0;31mNameError\u001b[0m                                 Traceback (most recent call last)",
      "\u001b[0;32m<ipython-input-28-6b4ae126c415>\u001b[0m in \u001b[0;36m<module>\u001b[0;34m\u001b[0m\n\u001b[1;32m      1\u001b[0m \u001b[0;31m#Percentage overlap\u001b[0m\u001b[0;34m\u001b[0m\u001b[0;34m\u001b[0m\u001b[0;34m\u001b[0m\u001b[0m\n\u001b[0;32m----> 2\u001b[0;31m \u001b[0mOVERLAP\u001b[0m \u001b[0;34m=\u001b[0m \u001b[0mvectorized_datavis\u001b[0m\u001b[0;34m.\u001b[0m\u001b[0mpercent_overlap\u001b[0m\u001b[0;34m(\u001b[0m\u001b[0mmean\u001b[0m\u001b[0;34m=\u001b[0m\u001b[0mMEAN\u001b[0m\u001b[0;34m,\u001b[0m \u001b[0msdev\u001b[0m\u001b[0;34m=\u001b[0m\u001b[0mSDEV\u001b[0m\u001b[0;34m)\u001b[0m\u001b[0;34m\u001b[0m\u001b[0;34m\u001b[0m\u001b[0m\n\u001b[0m",
      "\u001b[0;31mNameError\u001b[0m: name 'vectorized_datavis' is not defined"
     ]
    }
   ],
   "source": [
    "#Percentage overlap\n",
    "OVERLAP = vectorized_datavis.percent_overlap(mean=MEAN, sdev=SDEV)"
   ]
  },
  {
   "cell_type": "code",
   "execution_count": null,
   "metadata": {},
   "outputs": [],
   "source": []
  }
 ],
 "metadata": {
  "kernelspec": {
   "display_name": "Python 3",
   "language": "python",
   "name": "python3"
  },
  "language_info": {
   "codemirror_mode": {
    "name": "ipython",
    "version": 3
   },
   "file_extension": ".py",
   "mimetype": "text/x-python",
   "name": "python",
   "nbconvert_exporter": "python",
   "pygments_lexer": "ipython3",
   "version": "3.7.6"
  }
 },
 "nbformat": 4,
 "nbformat_minor": 4
}
