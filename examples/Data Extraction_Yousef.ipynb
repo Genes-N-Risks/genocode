{
 "cells": [
  {
   "cell_type": "code",
   "execution_count": 1,
   "metadata": {
    "ExecuteTime": {
     "end_time": "2020-04-24T04:41:19.378038Z",
     "start_time": "2020-04-24T04:41:18.949682Z"
    }
   },
   "outputs": [],
   "source": [
    "import pandas as pd"
   ]
  },
  {
   "cell_type": "code",
   "execution_count": 2,
   "metadata": {
    "ExecuteTime": {
     "end_time": "2020-04-24T04:41:19.875834Z",
     "start_time": "2020-04-24T04:41:19.379901Z"
    }
   },
   "outputs": [
    {
     "name": "stderr",
     "output_type": "stream",
     "text": [
      "/root/anaconda3/envs/python38/lib/python3.8/site-packages/IPython/core/interactiveshell.py:3062: DtypeWarning: Columns (1) have mixed types.Specify dtype option on import or set low_memory=False.\n",
      "  has_raised = await self.run_ast_nodes(code_ast.body, cell_name,\n"
     ]
    }
   ],
   "source": [
    "data = pd.read_csv ('../genocode/data/23andMe_data.txt','\\s+', skiprows=20, names=['rsid','chromosome','position','genotype']) "
   ]
  },
  {
   "cell_type": "code",
   "execution_count": 3,
   "metadata": {
    "ExecuteTime": {
     "end_time": "2020-04-24T04:41:20.743360Z",
     "start_time": "2020-04-24T04:41:19.878277Z"
    }
   },
   "outputs": [],
   "source": [
    "data.to_csv('../genocode/data/23andMe_data.csv', index=False) "
   ]
  },
  {
   "cell_type": "code",
   "execution_count": 4,
   "metadata": {
    "ExecuteTime": {
     "end_time": "2020-04-24T04:41:20.779253Z",
     "start_time": "2020-04-24T04:41:20.748997Z"
    }
   },
   "outputs": [
    {
     "data": {
      "text/html": [
       "<div>\n",
       "<style scoped>\n",
       "    .dataframe tbody tr th:only-of-type {\n",
       "        vertical-align: middle;\n",
       "    }\n",
       "\n",
       "    .dataframe tbody tr th {\n",
       "        vertical-align: top;\n",
       "    }\n",
       "\n",
       "    .dataframe thead th {\n",
       "        text-align: right;\n",
       "    }\n",
       "</style>\n",
       "<table border=\"1\" class=\"dataframe\">\n",
       "  <thead>\n",
       "    <tr style=\"text-align: right;\">\n",
       "      <th></th>\n",
       "      <th>rsid</th>\n",
       "      <th>chromosome</th>\n",
       "      <th>position</th>\n",
       "      <th>genotype</th>\n",
       "    </tr>\n",
       "  </thead>\n",
       "  <tbody>\n",
       "    <tr>\n",
       "      <th>0</th>\n",
       "      <td>rs12564807</td>\n",
       "      <td>1</td>\n",
       "      <td>734462</td>\n",
       "      <td>AA</td>\n",
       "    </tr>\n",
       "    <tr>\n",
       "      <th>1</th>\n",
       "      <td>rs3131972</td>\n",
       "      <td>1</td>\n",
       "      <td>752721</td>\n",
       "      <td>AG</td>\n",
       "    </tr>\n",
       "    <tr>\n",
       "      <th>2</th>\n",
       "      <td>rs148828841</td>\n",
       "      <td>1</td>\n",
       "      <td>760998</td>\n",
       "      <td>CC</td>\n",
       "    </tr>\n",
       "    <tr>\n",
       "      <th>3</th>\n",
       "      <td>rs12124819</td>\n",
       "      <td>1</td>\n",
       "      <td>776546</td>\n",
       "      <td>AG</td>\n",
       "    </tr>\n",
       "    <tr>\n",
       "      <th>4</th>\n",
       "      <td>rs115093905</td>\n",
       "      <td>1</td>\n",
       "      <td>787173</td>\n",
       "      <td>--</td>\n",
       "    </tr>\n",
       "  </tbody>\n",
       "</table>\n",
       "</div>"
      ],
      "text/plain": [
       "          rsid chromosome  position genotype\n",
       "0   rs12564807          1    734462       AA\n",
       "1    rs3131972          1    752721       AG\n",
       "2  rs148828841          1    760998       CC\n",
       "3   rs12124819          1    776546       AG\n",
       "4  rs115093905          1    787173       --"
      ]
     },
     "execution_count": 4,
     "metadata": {},
     "output_type": "execute_result"
    }
   ],
   "source": [
    "df = pd.DataFrame(data) \n",
    "df.head() "
   ]
  },
  {
   "cell_type": "code",
   "execution_count": 5,
   "metadata": {
    "ExecuteTime": {
     "end_time": "2020-04-24T04:41:20.786537Z",
     "start_time": "2020-04-24T04:41:20.781367Z"
    }
   },
   "outputs": [],
   "source": [
    "def txt_to_csv(txt_file, csv_file):\n",
    "    data = pd.read_csv(txt_file,'\\s+', skiprows=20, names=['rsid','chromosome','position','genotype'])\n",
    "    data = data.replace('--', 'NaN')\n",
    "    data.to_csv(csv_file, index=False)\n",
    "    df = pd.DataFrame(data) \n",
    "    return df"
   ]
  },
  {
   "cell_type": "code",
   "execution_count": 6,
   "metadata": {
    "ExecuteTime": {
     "end_time": "2020-04-24T04:41:22.395631Z",
     "start_time": "2020-04-24T04:41:20.789202Z"
    }
   },
   "outputs": [
    {
     "name": "stderr",
     "output_type": "stream",
     "text": [
      "/root/anaconda3/envs/python38/lib/python3.8/site-packages/IPython/core/interactiveshell.py:3254: DtypeWarning: Columns (1) have mixed types.Specify dtype option on import or set low_memory=False.\n",
      "  if (await self.run_code(code, result,  async_=asy)):\n"
     ]
    },
    {
     "data": {
      "text/html": [
       "<div>\n",
       "<style scoped>\n",
       "    .dataframe tbody tr th:only-of-type {\n",
       "        vertical-align: middle;\n",
       "    }\n",
       "\n",
       "    .dataframe tbody tr th {\n",
       "        vertical-align: top;\n",
       "    }\n",
       "\n",
       "    .dataframe thead th {\n",
       "        text-align: right;\n",
       "    }\n",
       "</style>\n",
       "<table border=\"1\" class=\"dataframe\">\n",
       "  <thead>\n",
       "    <tr style=\"text-align: right;\">\n",
       "      <th></th>\n",
       "      <th>rsid</th>\n",
       "      <th>chromosome</th>\n",
       "      <th>position</th>\n",
       "      <th>genotype</th>\n",
       "    </tr>\n",
       "  </thead>\n",
       "  <tbody>\n",
       "    <tr>\n",
       "      <th>0</th>\n",
       "      <td>rs12564807</td>\n",
       "      <td>1</td>\n",
       "      <td>734462</td>\n",
       "      <td>AA</td>\n",
       "    </tr>\n",
       "    <tr>\n",
       "      <th>1</th>\n",
       "      <td>rs3131972</td>\n",
       "      <td>1</td>\n",
       "      <td>752721</td>\n",
       "      <td>AG</td>\n",
       "    </tr>\n",
       "    <tr>\n",
       "      <th>2</th>\n",
       "      <td>rs148828841</td>\n",
       "      <td>1</td>\n",
       "      <td>760998</td>\n",
       "      <td>CC</td>\n",
       "    </tr>\n",
       "    <tr>\n",
       "      <th>3</th>\n",
       "      <td>rs12124819</td>\n",
       "      <td>1</td>\n",
       "      <td>776546</td>\n",
       "      <td>AG</td>\n",
       "    </tr>\n",
       "    <tr>\n",
       "      <th>4</th>\n",
       "      <td>rs115093905</td>\n",
       "      <td>1</td>\n",
       "      <td>787173</td>\n",
       "      <td>NaN</td>\n",
       "    </tr>\n",
       "    <tr>\n",
       "      <th>...</th>\n",
       "      <td>...</td>\n",
       "      <td>...</td>\n",
       "      <td>...</td>\n",
       "      <td>...</td>\n",
       "    </tr>\n",
       "    <tr>\n",
       "      <th>601890</th>\n",
       "      <td>i4000757</td>\n",
       "      <td>MT</td>\n",
       "      <td>16526</td>\n",
       "      <td>G</td>\n",
       "    </tr>\n",
       "    <tr>\n",
       "      <th>601891</th>\n",
       "      <td>i701671</td>\n",
       "      <td>MT</td>\n",
       "      <td>16526</td>\n",
       "      <td>G</td>\n",
       "    </tr>\n",
       "    <tr>\n",
       "      <th>601892</th>\n",
       "      <td>i4990307</td>\n",
       "      <td>MT</td>\n",
       "      <td>16527</td>\n",
       "      <td>C</td>\n",
       "    </tr>\n",
       "    <tr>\n",
       "      <th>601893</th>\n",
       "      <td>i4000756</td>\n",
       "      <td>MT</td>\n",
       "      <td>16540</td>\n",
       "      <td>C</td>\n",
       "    </tr>\n",
       "    <tr>\n",
       "      <th>601894</th>\n",
       "      <td>i3001931</td>\n",
       "      <td>MT</td>\n",
       "      <td>16547</td>\n",
       "      <td>C</td>\n",
       "    </tr>\n",
       "  </tbody>\n",
       "</table>\n",
       "<p>601895 rows × 4 columns</p>\n",
       "</div>"
      ],
      "text/plain": [
       "               rsid chromosome  position genotype\n",
       "0        rs12564807          1    734462       AA\n",
       "1         rs3131972          1    752721       AG\n",
       "2       rs148828841          1    760998       CC\n",
       "3        rs12124819          1    776546       AG\n",
       "4       rs115093905          1    787173      NaN\n",
       "...             ...        ...       ...      ...\n",
       "601890     i4000757         MT     16526        G\n",
       "601891      i701671         MT     16526        G\n",
       "601892     i4990307         MT     16527        C\n",
       "601893     i4000756         MT     16540        C\n",
       "601894     i3001931         MT     16547        C\n",
       "\n",
       "[601895 rows x 4 columns]"
      ]
     },
     "execution_count": 6,
     "metadata": {},
     "output_type": "execute_result"
    }
   ],
   "source": [
    "txt_to_csv('../genocode/data/23andMe_data.txt', '../genocode/data/23andMe_data.csv') "
   ]
  }
 ],
 "metadata": {
  "kernelspec": {
   "display_name": "Python 3",
   "language": "python",
   "name": "python3"
  },
  "language_info": {
   "codemirror_mode": {
    "name": "ipython",
    "version": 3
   },
   "file_extension": ".py",
   "mimetype": "text/x-python",
   "name": "python",
   "nbconvert_exporter": "python",
   "pygments_lexer": "ipython3",
   "version": "3.8.2"
  },
  "toc": {
   "base_numbering": 1,
   "nav_menu": {},
   "number_sections": true,
   "sideBar": true,
   "skip_h1_title": false,
   "title_cell": "Table of Contents",
   "title_sidebar": "Contents",
   "toc_cell": false,
   "toc_position": {},
   "toc_section_display": true,
   "toc_window_display": false
  },
  "varInspector": {
   "cols": {
    "lenName": 16,
    "lenType": 16,
    "lenVar": 40
   },
   "kernels_config": {
    "python": {
     "delete_cmd_postfix": "",
     "delete_cmd_prefix": "del ",
     "library": "var_list.py",
     "varRefreshCmd": "print(var_dic_list())"
    },
    "r": {
     "delete_cmd_postfix": ") ",
     "delete_cmd_prefix": "rm(",
     "library": "var_list.r",
     "varRefreshCmd": "cat(var_dic_list()) "
    }
   },
   "types_to_exclude": [
    "module",
    "function",
    "builtin_function_or_method",
    "instance",
    "_Feature"
   ],
   "window_display": false
  }
 },
 "nbformat": 4,
 "nbformat_minor": 4
}
